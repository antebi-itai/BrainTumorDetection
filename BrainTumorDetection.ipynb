{
 "cells": [
  {
   "cell_type": "markdown",
   "metadata": {
    "id": "rJ5wjNM2HmTi"
   },
   "source": [
    "# Brain Tumor Detection"
   ]
  },
  {
   "cell_type": "markdown",
   "metadata": {},
   "source": [
    "### For Google Colab Users"
   ]
  },
  {
   "cell_type": "code",
   "execution_count": null,
   "metadata": {
    "cellView": "form",
    "colab": {
     "base_uri": "https://localhost:8080/"
    },
    "executionInfo": {
     "elapsed": 33293,
     "status": "ok",
     "timestamp": 1624290479794,
     "user": {
      "displayName": "דן שגב",
      "photoUrl": "https://lh3.googleusercontent.com/a-/AOh14Gi7FCvMmLvTnajgDdkYg9B1ycwqNy9Hnzq3-rHN4F4=s64",
      "userId": "03596052621647126252"
     },
     "user_tz": -180
    },
    "id": "8e6boT7pL7XW",
    "outputId": "a3e0c981-f0a8-459b-bdca-5ee76158822f"
   },
   "outputs": [],
   "source": [
    "#@title ## Mount Your Google Drive & Map your Directory\n",
    "#@markdown Please run this cell (`Ctrl+Enter` or `Shift+Enter`) and follow the steps printed bellow.\n",
    "import os\n",
    "\n",
    "from google.colab import drive\n",
    "drive.mount('/content/gdrive')\n",
    "\n",
    "# check Google Drive is mounted\n",
    "if not os.path.isdir(\"/content/gdrive\"):\n",
    "  raise FileNotFoundError(\"Your Google Drive isn't mounted. Please run the above cell.\")\n",
    "\n",
    "assignment_dir = \"/content/gdrive/MyDrive/workspace/BrainTumorDetection\"  #@param{type:\"string\"}\n",
    "assignment_dest = \"/content/project\"\n",
    "\n",
    "# create symbolic link\n",
    "!rm -f {assignment_dest}\n",
    "!ln -s \"{assignment_dir}\" \"{assignment_dest}\"\n",
    "print(f'Succesfully mapped (ln -s) \"{assignment_dest}\" -> \"{assignment_dir}\"')\n",
    "\n",
    "# cd to linked dir\n",
    "%cd -q {assignment_dest}\n",
    "print(f'Succesfully changed directory (cd) to \"{assignment_dest}\"')"
   ]
  },
  {
   "cell_type": "markdown",
   "metadata": {},
   "source": [
    "### Init"
   ]
  },
  {
   "cell_type": "code",
   "execution_count": 1,
   "metadata": {
    "cellView": "form",
    "colab": {
     "base_uri": "https://localhost:8080/"
    },
    "executionInfo": {
     "elapsed": 6252,
     "status": "ok",
     "timestamp": 1624290486044,
     "user": {
      "displayName": "דן שגב",
      "photoUrl": "https://lh3.googleusercontent.com/a-/AOh14Gi7FCvMmLvTnajgDdkYg9B1ycwqNy9Hnzq3-rHN4F4=s64",
      "userId": "03596052621647126252"
     },
     "user_tz": -180
    },
    "id": "rNN_hPZaHmTj",
    "outputId": "1bfd50ab-0ae8-45d8-c3bb-f8a500346bd0"
   },
   "outputs": [
    {
     "name": "stderr",
     "output_type": "stream",
     "text": [
      "\u001b[34m\u001b[1mwandb\u001b[0m: Currently logged in as: \u001b[33mubrats\u001b[0m (use `wandb login --relogin` to force relogin)\n"
     ]
    },
    {
     "name": "stdout",
     "output_type": "stream",
     "text": [
      "Wed Jul 28 17:43:09 2021       \n",
      "+-----------------------------------------------------------------------------+\n",
      "| NVIDIA-SMI 460.32.03    Driver Version: 460.32.03    CUDA Version: 11.2     |\n",
      "|-------------------------------+----------------------+----------------------+\n",
      "| GPU  Name        Persistence-M| Bus-Id        Disp.A | Volatile Uncorr. ECC |\n",
      "| Fan  Temp  Perf  Pwr:Usage/Cap|         Memory-Usage | GPU-Util  Compute M. |\n",
      "|                               |                      |               MIG M. |\n",
      "|===============================+======================+======================|\n",
      "|   0  Quadro RTX 8000     Off  | 00000000:B1:00.0 Off |                  Off |\n",
      "| 33%   29C    P8    28W / 260W |      0MiB / 48601MiB |      0%      Default |\n",
      "|                               |                      |                  N/A |\n",
      "+-------------------------------+----------------------+----------------------+\n",
      "                                                                               \n",
      "+-----------------------------------------------------------------------------+\n",
      "| Processes:                                                                  |\n",
      "|  GPU   GI   CI        PID   Type   Process name                  GPU Memory |\n",
      "|        ID   ID                                                   Usage      |\n",
      "|=============================================================================|\n",
      "|  No running processes found                                                 |\n",
      "+-----------------------------------------------------------------------------+\n",
      "Possible models:\n",
      "Model vgg19                     -> accuracy 1\n",
      "Model vgg19_seg                 -> accuracy 0.95\n",
      "Model vgg19_seg_100             -> accuracy 0.83\n",
      "Model vgg19_seg_128             -> accuracy 0.87\n",
      "Model vgg19_seg_200             -> accuracy 0.9\n",
      "Model vgg19_seg_512             -> accuracy 0.87\n"
     ]
    }
   ],
   "source": [
    "#@title ##Init\n",
    "\n",
    "#@markdown Import required modules and observe your resources\n",
    "\n",
    "# auto reload\n",
    "%load_ext autoreload\n",
    "%autoreload 2\n",
    "\n",
    "# import\n",
    "import torch\n",
    "import torchvision\n",
    "from PIL import Image\n",
    "import matplotlib.pyplot as plt\n",
    "import random\n",
    "import os\n",
    "import wandb\n",
    "wandb.login()\n",
    "\n",
    "from experiment import Experiment\n",
    "from post_process import get_masks_from_heatmaps, present_masks, calc_iou\n",
    "from data import DataGenerator, SegmentationGenerator\n",
    "from train import get_best_models_dict\n",
    "\n",
    "# Show resources\n",
    "!nvidia-smi\n",
    "# Show possible models\n",
    "print(\"Possible models:\")\n",
    "models_dict = get_best_models_dict()\n",
    "for model in sorted(models_dict):\n",
    "    print(\"Model {model} {spaces}-> accuracy {acc}\".format(spaces=\" \"*(25-len(model)), model=model, acc=models_dict[model]))"
   ]
  },
  {
   "cell_type": "markdown",
   "metadata": {
    "id": "laVqGfGrHmTl"
   },
   "source": [
    "### Set Configs"
   ]
  },
  {
   "cell_type": "code",
   "execution_count": 2,
   "metadata": {},
   "outputs": [],
   "source": [
    "default_config = {\n",
    "    \"model_name\": \"vgg19_seg\",\n",
    "    \"input_size\": (256,256), \n",
    "    \"occlusion_size\": (30,30),\n",
    "    \n",
    "    \"epochs\": 0,\n",
    "  \n",
    "    #\"data_train_class\": DataGenerator,         \"data_train_path\": os.path.join(\".\", \"Data\", \"Training\"),\n",
    "    #\"data_test_class\": DataGenerator,          \"data_test_path\":  os.path.join(\".\", \"Data\", \"Testing\"),\n",
    "    \"data_train_class\": SegmentationGenerator, \"data_train_path\": os.path.join(\".\", \"SegmentationData\", \"train\"), \n",
    "    \"data_test_class\": SegmentationGenerator,  \"data_test_path\":  os.path.join(\".\", \"SegmentationData\", \"test-compact\"),\n",
    "\n",
    "    \"gt_threshold\": 0,\n",
    "    \"heatmap_threshold\" : 0.575,\n",
    "\n",
    "    \"heat_layers\" : [['features', layer_num] for layer_num in [0, 2, 5, 7, 10, 12, 14, 16, 19, 21, 23, 25, 28, 30, 32, 34]],\n",
    "    \"ref_heat_layer\": ['classifier', -1],\n",
    "    \"mri_type\": \"T1c\", \n",
    "    \"train_batch_size\": 100,\n",
    "    \"lr\": 1e-4,\n",
    "    \"heatmap_batch_size\": 256,\n",
    "    \"smallest_contour_len\" : 30,\n",
    "    \"shuffle_data\": True,\n",
    "    \"device\": \"cuda\",\n",
    "    \"attributes_to_log\": [\"model_name\", \"occlusion_size\", \"heatmap_threshold\"]\n",
    "}\n",
    "\n",
    "sweep_config = {\n",
    "    'name' : 'my-sweep',\n",
    "    'method' : 'random',\n",
    "    'parameters' : {\n",
    "        'occlusion_size' : {'values' : [(10,10), (20,20), (30,30), (40,40), (50,50), (60,60)]},\n",
    "        'gt_threshold' : {'values' : [0, 1, 2]},\n",
    "        'heatmap_threshold' : {\n",
    "            'distribution' : 'uniform', \n",
    "            'min': 0.4, \n",
    "            'max': 0.9\n",
    "        }\n",
    "    },\n",
    "    'metric': {\n",
    "        'name': 'avg_iou',\n",
    "        'goal' : 'maximize'\n",
    "    }\n",
    "}\n",
    "\n",
    "def agent():\n",
    "    with wandb.init(project=\"BrainTumorDetection\", config=default_config):\n",
    "        config = wandb.config\n",
    "        experiment = Experiment(config)\n",
    "        iou = experiment.run()\n"
   ]
  },
  {
   "cell_type": "markdown",
   "metadata": {},
   "source": [
    "### Run Single Experiment"
   ]
  },
  {
   "cell_type": "code",
   "execution_count": 14,
   "metadata": {},
   "outputs": [
    {
     "data": {
      "text/html": [
       "\n",
       "                Tracking run with wandb version 0.10.32<br/>\n",
       "                Syncing run <strong style=\"color:#cdcd00\">ethereal-sea-3</strong> to <a href=\"https://wandb.ai\" target=\"_blank\">Weights & Biases</a> <a href=\"https://docs.wandb.com/integrations/jupyter.html\" target=\"_blank\">(Documentation)</a>.<br/>\n",
       "                Project page: <a href=\"https://wandb.ai/ubrats/BrainTumorDetection\" target=\"_blank\">https://wandb.ai/ubrats/BrainTumorDetection</a><br/>\n",
       "                Run page: <a href=\"https://wandb.ai/ubrats/BrainTumorDetection/runs/1tf4yil9\" target=\"_blank\">https://wandb.ai/ubrats/BrainTumorDetection/runs/1tf4yil9</a><br/>\n",
       "                Run data is saved locally in <code>/home/labs/waic/itaian/BrainTumorDetection/wandb/run-20210728_175657-1tf4yil9</code><br/><br/>\n",
       "            "
      ],
      "text/plain": [
       "<IPython.core.display.HTML object>"
      ]
     },
     "metadata": {},
     "output_type": "display_data"
    },
    {
     "name": "stdout",
     "output_type": "stream",
     "text": [
      "loading vgg19_seg model...\n",
      "loading best model state from: ./Models/vgg19_seg.pth\n"
     ]
    },
    {
     "name": "stderr",
     "output_type": "stream",
     "text": [
      "0it [00:00, ?it/s]"
     ]
    },
    {
     "name": "stdout",
     "output_type": "stream",
     "text": [
      "loading best model state from: ./Models/vgg19_seg.pth\n"
     ]
    },
    {
     "name": "stderr",
     "output_type": "stream",
     "text": [
      "\n"
     ]
    },
    {
     "name": "stdout",
     "output_type": "stream",
     "text": [
      "Model's accuracy: 0.9\n",
      "Creating heatmap...\n"
     ]
    },
    {
     "name": "stderr",
     "output_type": "stream",
     "text": [
      "100%|██████████| 256/256 [02:46<00:00,  1.54it/s]\n"
     ]
    },
    {
     "name": "stdout",
     "output_type": "stream",
     "text": [
      "Creating heatmap...\n"
     ]
    },
    {
     "name": "stderr",
     "output_type": "stream",
     "text": [
      "100%|██████████| 256/256 [02:47<00:00,  1.53it/s]\n"
     ]
    },
    {
     "name": "stdout",
     "output_type": "stream",
     "text": [
      "Creating heatmap...\n"
     ]
    },
    {
     "name": "stderr",
     "output_type": "stream",
     "text": [
      "100%|██████████| 256/256 [02:47<00:00,  1.53it/s]\n"
     ]
    },
    {
     "name": "stdout",
     "output_type": "stream",
     "text": [
      "Failed to smoothen contours :/    continuing...\n",
      "Creating heatmap...\n"
     ]
    },
    {
     "name": "stderr",
     "output_type": "stream",
     "text": [
      "100%|██████████| 256/256 [02:47<00:00,  1.53it/s]\n"
     ]
    },
    {
     "name": "stdout",
     "output_type": "stream",
     "text": [
      "Creating heatmap...\n"
     ]
    },
    {
     "name": "stderr",
     "output_type": "stream",
     "text": [
      "100%|██████████| 256/256 [02:47<00:00,  1.53it/s]\n"
     ]
    },
    {
     "name": "stdout",
     "output_type": "stream",
     "text": [
      "Creating heatmap...\n"
     ]
    },
    {
     "name": "stderr",
     "output_type": "stream",
     "text": [
      "100%|██████████| 256/256 [02:47<00:00,  1.53it/s]\n"
     ]
    },
    {
     "name": "stdout",
     "output_type": "stream",
     "text": [
      "Creating heatmap...\n"
     ]
    },
    {
     "name": "stderr",
     "output_type": "stream",
     "text": [
      "100%|██████████| 256/256 [02:47<00:00,  1.53it/s]\n"
     ]
    },
    {
     "name": "stdout",
     "output_type": "stream",
     "text": [
      "Creating heatmap...\n"
     ]
    },
    {
     "name": "stderr",
     "output_type": "stream",
     "text": [
      "100%|██████████| 256/256 [02:47<00:00,  1.52it/s]\n"
     ]
    },
    {
     "name": "stdout",
     "output_type": "stream",
     "text": [
      "Creating heatmap...\n"
     ]
    },
    {
     "name": "stderr",
     "output_type": "stream",
     "text": [
      "100%|██████████| 256/256 [02:47<00:00,  1.53it/s]\n"
     ]
    },
    {
     "name": "stdout",
     "output_type": "stream",
     "text": [
      "Creating heatmap...\n"
     ]
    },
    {
     "name": "stderr",
     "output_type": "stream",
     "text": [
      "100%|██████████| 256/256 [02:47<00:00,  1.53it/s]\n"
     ]
    },
    {
     "data": {
      "text/html": [
       "<br/>Waiting for W&B process to finish, PID 60122<br/>Program ended successfully."
      ],
      "text/plain": [
       "<IPython.core.display.HTML object>"
      ]
     },
     "metadata": {},
     "output_type": "display_data"
    },
    {
     "data": {
      "application/vnd.jupyter.widget-view+json": {
       "model_id": "",
       "version_major": 2,
       "version_minor": 0
      },
      "text/plain": [
       "VBox(children=(Label(value=' 14.69MB of 14.69MB uploaded (0.00MB deduped)\\r'), FloatProgress(value=1.0, max=1.…"
      ]
     },
     "metadata": {},
     "output_type": "display_data"
    },
    {
     "data": {
      "text/html": [
       "Find user logs for this run at: <code>/home/labs/waic/itaian/BrainTumorDetection/wandb/run-20210728_175657-1tf4yil9/logs/debug.log</code>"
      ],
      "text/plain": [
       "<IPython.core.display.HTML object>"
      ]
     },
     "metadata": {},
     "output_type": "display_data"
    },
    {
     "data": {
      "text/html": [
       "Find internal logs for this run at: <code>/home/labs/waic/itaian/BrainTumorDetection/wandb/run-20210728_175657-1tf4yil9/logs/debug-internal.log</code>"
      ],
      "text/plain": [
       "<IPython.core.display.HTML object>"
      ]
     },
     "metadata": {},
     "output_type": "display_data"
    },
    {
     "data": {
      "text/html": [
       "<h3>Run summary:</h3><br/><style>\n",
       "    table.wandb td:nth-child(1) { padding: 0 10px; text-align: right }\n",
       "    </style><table class=\"wandb\">\n",
       "<tr><td>Test/accuracy/no</td><td>1.0</td></tr><tr><td>_runtime</td><td>1734</td></tr><tr><td>_timestamp</td><td>1627485951</td></tr><tr><td>_step</td><td>64</td></tr><tr><td>Test/accuracy/yes</td><td>0.8</td></tr><tr><td>Test/accuracy</td><td>0.9</td></tr><tr><td>#0/IOU</td><td>0.0</td></tr><tr><td>#1/IOU</td><td>0.42241</td></tr><tr><td>#2/IOU</td><td>0.0895</td></tr><tr><td>#3/IOU</td><td>0.3893</td></tr><tr><td>#4/IOU</td><td>0.41891</td></tr><tr><td>#5/IOU</td><td>0.72621</td></tr><tr><td>#6/IOU</td><td>0.53671</td></tr><tr><td>#7/IOU</td><td>0.29178</td></tr><tr><td>#8/IOU</td><td>0.48989</td></tr><tr><td>#9/IOU</td><td>0.61196</td></tr><tr><td>avg_iou</td><td>0.39767</td></tr></table>"
      ],
      "text/plain": [
       "<IPython.core.display.HTML object>"
      ]
     },
     "metadata": {},
     "output_type": "display_data"
    },
    {
     "data": {
      "text/html": [
       "<h3>Run history:</h3><br/><style>\n",
       "    table.wandb td:nth-child(1) { padding: 0 10px; text-align: right }\n",
       "    </style><table class=\"wandb\">\n",
       "<tr><td>Test/accuracy/no</td><td>▁</td></tr><tr><td>_runtime</td><td>▁▁▁▂▂▂▂▂▂▂▃▃▃▃▄▄▄▄▄▄▄▅▅▅▅▆▆▆▆▇▇▇▇▇▇▇████</td></tr><tr><td>_timestamp</td><td>▁▁▁▂▂▂▂▂▂▂▃▃▃▃▄▄▄▄▄▄▄▅▅▅▅▆▆▆▆▇▇▇▇▇▇▇████</td></tr><tr><td>_step</td><td>▁▁▁▁▂▂▂▂▂▃▃▃▃▃▃▄▄▄▄▄▅▅▅▅▅▅▆▆▆▆▆▆▇▇▇▇▇███</td></tr><tr><td>Test/accuracy/yes</td><td>▁</td></tr><tr><td>Test/accuracy</td><td>▁</td></tr><tr><td>#0/IOU</td><td>▁</td></tr><tr><td>#1/IOU</td><td>▁</td></tr><tr><td>#2/IOU</td><td>▁</td></tr><tr><td>#3/IOU</td><td>▁</td></tr><tr><td>#4/IOU</td><td>▁</td></tr><tr><td>#5/IOU</td><td>▁</td></tr><tr><td>#6/IOU</td><td>▁</td></tr><tr><td>#7/IOU</td><td>▁</td></tr><tr><td>#8/IOU</td><td>▁</td></tr><tr><td>#9/IOU</td><td>▁</td></tr><tr><td>avg_iou</td><td>▁</td></tr></table><br/>"
      ],
      "text/plain": [
       "<IPython.core.display.HTML object>"
      ]
     },
     "metadata": {},
     "output_type": "display_data"
    },
    {
     "data": {
      "text/html": [
       "Synced 6 W&B file(s), 691 media file(s), 1 artifact file(s) and 0 other file(s)"
      ],
      "text/plain": [
       "<IPython.core.display.HTML object>"
      ]
     },
     "metadata": {},
     "output_type": "display_data"
    },
    {
     "data": {
      "text/html": [
       "\n",
       "                    <br/>Synced <strong style=\"color:#cdcd00\">ethereal-sea-3</strong>: <a href=\"https://wandb.ai/ubrats/BrainTumorDetection/runs/1tf4yil9\" target=\"_blank\">https://wandb.ai/ubrats/BrainTumorDetection/runs/1tf4yil9</a><br/>\n",
       "                "
      ],
      "text/plain": [
       "<IPython.core.display.HTML object>"
      ]
     },
     "metadata": {},
     "output_type": "display_data"
    }
   ],
   "source": [
    "agent()"
   ]
  },
  {
   "cell_type": "markdown",
   "metadata": {},
   "source": [
    "### Sweep over many Experiments"
   ]
  },
  {
   "cell_type": "code",
   "execution_count": null,
   "metadata": {},
   "outputs": [],
   "source": [
    "sweep_id = wandb.sweep(sweep_config, entity='UBRATS', project='Unsupervised-BRATS')\n",
    "print(\"Sweep ID:\", sweep_id)\n",
    "count = 100\n",
    "wandb.agent(sweep_id, function=agent, count=count)"
   ]
  },
  {
   "cell_type": "markdown",
   "metadata": {},
   "source": [
    "### Debug"
   ]
  },
  {
   "cell_type": "markdown",
   "metadata": {},
   "source": [
    "#### plot funcs"
   ]
  },
  {
   "cell_type": "code",
   "execution_count": 6,
   "metadata": {},
   "outputs": [],
   "source": [
    "import numpy as np\n",
    "\n",
    "def move2cpu(d):\n",
    "    \"\"\"Move data from gpu to cpu\"\"\"\n",
    "    return d.detach().cpu().float().numpy()\n",
    "\n",
    "def tensor2im(im_t):\n",
    "    \"\"\"Copy the tensor to the cpu & convert to range [0,255]\"\"\"\n",
    "    im_t = move2cpu(im_t)\n",
    "    if len(im_t.shape) == 3:\n",
    "        im_t = np.transpose(im_t, (1, 2, 0))\n",
    "    im_np = np.clip(np.round(im_t * 255.0), 0, 255)\n",
    "    return im_np.astype(np.uint8)\n",
    "\n",
    "def im2tensor(im_np):\n",
    "    \"\"\"Copy the image to the gpu & converts to range [-1,1]\"\"\"\n",
    "    im_np = im_np / 255.0 if im_np.dtype == 'uint8' else im_np\n",
    "    return torch.FloatTensor(np.transpose(im_np, (2, 0, 1)) * 2.0 - 1.0).unsqueeze(0).cuda()\n",
    "\n",
    "def plot(image, title=None):\n",
    "    if type(image) != np.ndarray:\n",
    "        image = tensor2im(image)\n",
    "    \n",
    "    plt.figure()\n",
    "    if len(image.shape) == 2:\n",
    "        plt.imshow(image, cmap=\"gray\")\n",
    "    else:\n",
    "        plt.imshow(image)\n",
    "    \n",
    "    if title is not None: plt.title(title)\n",
    "    plt.show()\n"
   ]
  },
  {
   "cell_type": "markdown",
   "metadata": {},
   "source": [
    "#### play"
   ]
  },
  {
   "cell_type": "code",
   "execution_count": 3,
   "metadata": {},
   "outputs": [
    {
     "name": "stdout",
     "output_type": "stream",
     "text": [
      "loading vgg19_seg model...\n",
      "loading best model state from: ./Models/vgg19_seg.pth\n"
     ]
    }
   ],
   "source": [
    "from matplotlib import pyplot as plt\n",
    "\n",
    "default_config[\"data_train_class\"] = \"data.SegmentationGenerator\"\n",
    "default_config[\"data_test_class\"] = \"data.SegmentationGenerator\"\n",
    "\n",
    "experiment = Experiment(default_config)"
   ]
  }
 ],
 "metadata": {
  "colab": {
   "collapsed_sections": [],
   "name": "BrainTumorDetection.ipynb",
   "version": ""
  },
  "kernelspec": {
   "display_name": "Python 3",
   "language": "python",
   "name": "python3"
  },
  "language_info": {
   "codemirror_mode": {
    "name": "ipython",
    "version": 3
   },
   "file_extension": ".py",
   "mimetype": "text/x-python",
   "name": "python",
   "nbconvert_exporter": "python",
   "pygments_lexer": "ipython3",
   "version": "3.9.5"
  },
  "widgets": {
   "application/vnd.jupyter.widget-state+json": {
    "04f4387e7e43438c9fdff53a8bd185f9": {
     "model_module": "@jupyter-widgets/base",
     "model_name": "LayoutModel",
     "state": {
      "_model_module": "@jupyter-widgets/base",
      "_model_module_version": "1.2.0",
      "_model_name": "LayoutModel",
      "_view_count": null,
      "_view_module": "@jupyter-widgets/base",
      "_view_module_version": "1.2.0",
      "_view_name": "LayoutView",
      "align_content": null,
      "align_items": null,
      "align_self": null,
      "border": null,
      "bottom": null,
      "display": null,
      "flex": null,
      "flex_flow": null,
      "grid_area": null,
      "grid_auto_columns": null,
      "grid_auto_flow": null,
      "grid_auto_rows": null,
      "grid_column": null,
      "grid_gap": null,
      "grid_row": null,
      "grid_template_areas": null,
      "grid_template_columns": null,
      "grid_template_rows": null,
      "height": null,
      "justify_content": null,
      "justify_items": null,
      "left": null,
      "margin": null,
      "max_height": null,
      "max_width": null,
      "min_height": null,
      "min_width": null,
      "object_fit": null,
      "object_position": null,
      "order": null,
      "overflow": null,
      "overflow_x": null,
      "overflow_y": null,
      "padding": null,
      "right": null,
      "top": null,
      "visibility": null,
      "width": null
     }
    },
    "0a3020a0f2f64dd19884e929a08c369a": {
     "model_module": "@jupyter-widgets/controls",
     "model_name": "DescriptionStyleModel",
     "state": {
      "_model_module": "@jupyter-widgets/controls",
      "_model_module_version": "1.5.0",
      "_model_name": "DescriptionStyleModel",
      "_view_count": null,
      "_view_module": "@jupyter-widgets/base",
      "_view_module_version": "1.2.0",
      "_view_name": "StyleView",
      "description_width": ""
     }
    },
    "0f9632a8291046188ac3c21b79001af7": {
     "model_module": "@jupyter-widgets/controls",
     "model_name": "FloatProgressModel",
     "state": {
      "_dom_classes": [],
      "_model_module": "@jupyter-widgets/controls",
      "_model_module_version": "1.5.0",
      "_model_name": "FloatProgressModel",
      "_view_count": null,
      "_view_module": "@jupyter-widgets/controls",
      "_view_module_version": "1.5.0",
      "_view_name": "ProgressView",
      "bar_style": "success",
      "description": "100%",
      "description_tooltip": null,
      "layout": "IPY_MODEL_f94c7486d8714ca694e85ae94ae08865",
      "max": 574673361,
      "min": 0,
      "orientation": "horizontal",
      "style": "IPY_MODEL_75a2c9d36604429e979e3a03cbc1ee3d",
      "value": 574673361
     }
    },
    "18ba561eeed54e6489c5aacbf24969e0": {
     "model_module": "@jupyter-widgets/controls",
     "model_name": "HTMLModel",
     "state": {
      "_dom_classes": [],
      "_model_module": "@jupyter-widgets/controls",
      "_model_module_version": "1.5.0",
      "_model_name": "HTMLModel",
      "_view_count": null,
      "_view_module": "@jupyter-widgets/controls",
      "_view_module_version": "1.5.0",
      "_view_name": "HTMLView",
      "description": "",
      "description_tooltip": null,
      "layout": "IPY_MODEL_59eb31a721ae4b64abbf5fca3d2c7e83",
      "placeholder": "​",
      "style": "IPY_MODEL_0a3020a0f2f64dd19884e929a08c369a",
      "value": " 548M/548M [00:03&lt;00:00, 161MB/s]"
     }
    },
    "1a3d9ff6b0f84a89991000a438be578b": {
     "model_module": "@jupyter-widgets/controls",
     "model_name": "HBoxModel",
     "state": {
      "_dom_classes": [],
      "_model_module": "@jupyter-widgets/controls",
      "_model_module_version": "1.5.0",
      "_model_name": "HBoxModel",
      "_view_count": null,
      "_view_module": "@jupyter-widgets/controls",
      "_view_module_version": "1.5.0",
      "_view_name": "HBoxView",
      "box_style": "",
      "children": [
       "IPY_MODEL_0f9632a8291046188ac3c21b79001af7",
       "IPY_MODEL_18ba561eeed54e6489c5aacbf24969e0"
      ],
      "layout": "IPY_MODEL_4f45e8a590c44cf5be6590c9d402064b"
     }
    },
    "4f45e8a590c44cf5be6590c9d402064b": {
     "model_module": "@jupyter-widgets/base",
     "model_name": "LayoutModel",
     "state": {
      "_model_module": "@jupyter-widgets/base",
      "_model_module_version": "1.2.0",
      "_model_name": "LayoutModel",
      "_view_count": null,
      "_view_module": "@jupyter-widgets/base",
      "_view_module_version": "1.2.0",
      "_view_name": "LayoutView",
      "align_content": null,
      "align_items": null,
      "align_self": null,
      "border": null,
      "bottom": null,
      "display": null,
      "flex": null,
      "flex_flow": null,
      "grid_area": null,
      "grid_auto_columns": null,
      "grid_auto_flow": null,
      "grid_auto_rows": null,
      "grid_column": null,
      "grid_gap": null,
      "grid_row": null,
      "grid_template_areas": null,
      "grid_template_columns": null,
      "grid_template_rows": null,
      "height": null,
      "justify_content": null,
      "justify_items": null,
      "left": null,
      "margin": null,
      "max_height": null,
      "max_width": null,
      "min_height": null,
      "min_width": null,
      "object_fit": null,
      "object_position": null,
      "order": null,
      "overflow": null,
      "overflow_x": null,
      "overflow_y": null,
      "padding": null,
      "right": null,
      "top": null,
      "visibility": null,
      "width": null
     }
    },
    "52de28e9bc6a4035b00467e894f6c048": {
     "model_module": "@jupyter-widgets/controls",
     "model_name": "DescriptionStyleModel",
     "state": {
      "_model_module": "@jupyter-widgets/controls",
      "_model_module_version": "1.5.0",
      "_model_name": "DescriptionStyleModel",
      "_view_count": null,
      "_view_module": "@jupyter-widgets/base",
      "_view_module_version": "1.2.0",
      "_view_name": "StyleView",
      "description_width": ""
     }
    },
    "59eb31a721ae4b64abbf5fca3d2c7e83": {
     "model_module": "@jupyter-widgets/base",
     "model_name": "LayoutModel",
     "state": {
      "_model_module": "@jupyter-widgets/base",
      "_model_module_version": "1.2.0",
      "_model_name": "LayoutModel",
      "_view_count": null,
      "_view_module": "@jupyter-widgets/base",
      "_view_module_version": "1.2.0",
      "_view_name": "LayoutView",
      "align_content": null,
      "align_items": null,
      "align_self": null,
      "border": null,
      "bottom": null,
      "display": null,
      "flex": null,
      "flex_flow": null,
      "grid_area": null,
      "grid_auto_columns": null,
      "grid_auto_flow": null,
      "grid_auto_rows": null,
      "grid_column": null,
      "grid_gap": null,
      "grid_row": null,
      "grid_template_areas": null,
      "grid_template_columns": null,
      "grid_template_rows": null,
      "height": null,
      "justify_content": null,
      "justify_items": null,
      "left": null,
      "margin": null,
      "max_height": null,
      "max_width": null,
      "min_height": null,
      "min_width": null,
      "object_fit": null,
      "object_position": null,
      "order": null,
      "overflow": null,
      "overflow_x": null,
      "overflow_y": null,
      "padding": null,
      "right": null,
      "top": null,
      "visibility": null,
      "width": null
     }
    },
    "6ce234089638421b89bb3da75fc9ede8": {
     "model_module": "@jupyter-widgets/controls",
     "model_name": "HBoxModel",
     "state": {
      "_dom_classes": [],
      "_model_module": "@jupyter-widgets/controls",
      "_model_module_version": "1.5.0",
      "_model_name": "HBoxModel",
      "_view_count": null,
      "_view_module": "@jupyter-widgets/controls",
      "_view_module_version": "1.5.0",
      "_view_name": "HBoxView",
      "box_style": "",
      "children": [
       "IPY_MODEL_7f33ec580a834f7aadce4b6728cc7b96",
       "IPY_MODEL_f42e1786cd2e454e857aa05288a3ce20"
      ],
      "layout": "IPY_MODEL_04f4387e7e43438c9fdff53a8bd185f9"
     }
    },
    "75a2c9d36604429e979e3a03cbc1ee3d": {
     "model_module": "@jupyter-widgets/controls",
     "model_name": "ProgressStyleModel",
     "state": {
      "_model_module": "@jupyter-widgets/controls",
      "_model_module_version": "1.5.0",
      "_model_name": "ProgressStyleModel",
      "_view_count": null,
      "_view_module": "@jupyter-widgets/base",
      "_view_module_version": "1.2.0",
      "_view_name": "StyleView",
      "bar_color": null,
      "description_width": "initial"
     }
    },
    "7c48b8d574ba47c988cf494f7b82a57c": {
     "model_module": "@jupyter-widgets/base",
     "model_name": "LayoutModel",
     "state": {
      "_model_module": "@jupyter-widgets/base",
      "_model_module_version": "1.2.0",
      "_model_name": "LayoutModel",
      "_view_count": null,
      "_view_module": "@jupyter-widgets/base",
      "_view_module_version": "1.2.0",
      "_view_name": "LayoutView",
      "align_content": null,
      "align_items": null,
      "align_self": null,
      "border": null,
      "bottom": null,
      "display": null,
      "flex": null,
      "flex_flow": null,
      "grid_area": null,
      "grid_auto_columns": null,
      "grid_auto_flow": null,
      "grid_auto_rows": null,
      "grid_column": null,
      "grid_gap": null,
      "grid_row": null,
      "grid_template_areas": null,
      "grid_template_columns": null,
      "grid_template_rows": null,
      "height": null,
      "justify_content": null,
      "justify_items": null,
      "left": null,
      "margin": null,
      "max_height": null,
      "max_width": null,
      "min_height": null,
      "min_width": null,
      "object_fit": null,
      "object_position": null,
      "order": null,
      "overflow": null,
      "overflow_x": null,
      "overflow_y": null,
      "padding": null,
      "right": null,
      "top": null,
      "visibility": null,
      "width": null
     }
    },
    "7f33ec580a834f7aadce4b6728cc7b96": {
     "model_module": "@jupyter-widgets/controls",
     "model_name": "FloatProgressModel",
     "state": {
      "_dom_classes": [],
      "_model_module": "@jupyter-widgets/controls",
      "_model_module_version": "1.5.0",
      "_model_name": "FloatProgressModel",
      "_view_count": null,
      "_view_module": "@jupyter-widgets/controls",
      "_view_module_version": "1.5.0",
      "_view_name": "ProgressView",
      "bar_style": "success",
      "description": "100%",
      "description_tooltip": null,
      "layout": "IPY_MODEL_7c48b8d574ba47c988cf494f7b82a57c",
      "max": 574673361,
      "min": 0,
      "orientation": "horizontal",
      "style": "IPY_MODEL_e41f9a252c6d424d9e46db9fbff24f51",
      "value": 574673361
     }
    },
    "e41f9a252c6d424d9e46db9fbff24f51": {
     "model_module": "@jupyter-widgets/controls",
     "model_name": "ProgressStyleModel",
     "state": {
      "_model_module": "@jupyter-widgets/controls",
      "_model_module_version": "1.5.0",
      "_model_name": "ProgressStyleModel",
      "_view_count": null,
      "_view_module": "@jupyter-widgets/base",
      "_view_module_version": "1.2.0",
      "_view_name": "StyleView",
      "bar_color": null,
      "description_width": "initial"
     }
    },
    "e61d1189d269428d8b51e1f4363050b4": {
     "model_module": "@jupyter-widgets/base",
     "model_name": "LayoutModel",
     "state": {
      "_model_module": "@jupyter-widgets/base",
      "_model_module_version": "1.2.0",
      "_model_name": "LayoutModel",
      "_view_count": null,
      "_view_module": "@jupyter-widgets/base",
      "_view_module_version": "1.2.0",
      "_view_name": "LayoutView",
      "align_content": null,
      "align_items": null,
      "align_self": null,
      "border": null,
      "bottom": null,
      "display": null,
      "flex": null,
      "flex_flow": null,
      "grid_area": null,
      "grid_auto_columns": null,
      "grid_auto_flow": null,
      "grid_auto_rows": null,
      "grid_column": null,
      "grid_gap": null,
      "grid_row": null,
      "grid_template_areas": null,
      "grid_template_columns": null,
      "grid_template_rows": null,
      "height": null,
      "justify_content": null,
      "justify_items": null,
      "left": null,
      "margin": null,
      "max_height": null,
      "max_width": null,
      "min_height": null,
      "min_width": null,
      "object_fit": null,
      "object_position": null,
      "order": null,
      "overflow": null,
      "overflow_x": null,
      "overflow_y": null,
      "padding": null,
      "right": null,
      "top": null,
      "visibility": null,
      "width": null
     }
    },
    "f42e1786cd2e454e857aa05288a3ce20": {
     "model_module": "@jupyter-widgets/controls",
     "model_name": "HTMLModel",
     "state": {
      "_dom_classes": [],
      "_model_module": "@jupyter-widgets/controls",
      "_model_module_version": "1.5.0",
      "_model_name": "HTMLModel",
      "_view_count": null,
      "_view_module": "@jupyter-widgets/controls",
      "_view_module_version": "1.5.0",
      "_view_name": "HTMLView",
      "description": "",
      "description_tooltip": null,
      "layout": "IPY_MODEL_e61d1189d269428d8b51e1f4363050b4",
      "placeholder": "​",
      "style": "IPY_MODEL_52de28e9bc6a4035b00467e894f6c048",
      "value": " 548M/548M [16:21&lt;00:00, 585kB/s]"
     }
    },
    "f94c7486d8714ca694e85ae94ae08865": {
     "model_module": "@jupyter-widgets/base",
     "model_name": "LayoutModel",
     "state": {
      "_model_module": "@jupyter-widgets/base",
      "_model_module_version": "1.2.0",
      "_model_name": "LayoutModel",
      "_view_count": null,
      "_view_module": "@jupyter-widgets/base",
      "_view_module_version": "1.2.0",
      "_view_name": "LayoutView",
      "align_content": null,
      "align_items": null,
      "align_self": null,
      "border": null,
      "bottom": null,
      "display": null,
      "flex": null,
      "flex_flow": null,
      "grid_area": null,
      "grid_auto_columns": null,
      "grid_auto_flow": null,
      "grid_auto_rows": null,
      "grid_column": null,
      "grid_gap": null,
      "grid_row": null,
      "grid_template_areas": null,
      "grid_template_columns": null,
      "grid_template_rows": null,
      "height": null,
      "justify_content": null,
      "justify_items": null,
      "left": null,
      "margin": null,
      "max_height": null,
      "max_width": null,
      "min_height": null,
      "min_width": null,
      "object_fit": null,
      "object_position": null,
      "order": null,
      "overflow": null,
      "overflow_x": null,
      "overflow_y": null,
      "padding": null,
      "right": null,
      "top": null,
      "visibility": null,
      "width": null
     }
    }
   }
  }
 },
 "nbformat": 4,
 "nbformat_minor": 4
}
