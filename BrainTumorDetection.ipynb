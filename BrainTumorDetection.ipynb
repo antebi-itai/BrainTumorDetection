{
 "cells": [
  {
   "cell_type": "markdown",
   "metadata": {
    "id": "rJ5wjNM2HmTi"
   },
   "source": [
    "# Brain Tumor Detection"
   ]
  },
  {
   "cell_type": "markdown",
   "metadata": {},
   "source": [
    "### For Google Colab Users"
   ]
  },
  {
   "cell_type": "code",
   "execution_count": null,
   "metadata": {
    "cellView": "form",
    "colab": {
     "base_uri": "https://localhost:8080/"
    },
    "executionInfo": {
     "elapsed": 33293,
     "status": "ok",
     "timestamp": 1624290479794,
     "user": {
      "displayName": "דן שגב",
      "photoUrl": "https://lh3.googleusercontent.com/a-/AOh14Gi7FCvMmLvTnajgDdkYg9B1ycwqNy9Hnzq3-rHN4F4=s64",
      "userId": "03596052621647126252"
     },
     "user_tz": -180
    },
    "id": "8e6boT7pL7XW",
    "outputId": "a3e0c981-f0a8-459b-bdca-5ee76158822f"
   },
   "outputs": [],
   "source": [
    "#@title ## Mount Your Google Drive & Map your Directory\n",
    "#@markdown Please run this cell (`Ctrl+Enter` or `Shift+Enter`) and follow the steps printed bellow.\n",
    "import os\n",
    "\n",
    "from google.colab import drive\n",
    "drive.mount('/content/gdrive')\n",
    "\n",
    "# check Google Drive is mounted\n",
    "if not os.path.isdir(\"/content/gdrive\"):\n",
    "  raise FileNotFoundError(\"Your Google Drive isn't mounted. Please run the above cell.\")\n",
    "\n",
    "assignment_dir = \"/content/gdrive/MyDrive/workspace/BrainTumorDetection\"  #@param{type:\"string\"}\n",
    "assignment_dest = \"/content/project\"\n",
    "\n",
    "# create symbolic link\n",
    "!rm -f {assignment_dest}\n",
    "!ln -s \"{assignment_dir}\" \"{assignment_dest}\"\n",
    "print(f'Succesfully mapped (ln -s) \"{assignment_dest}\" -> \"{assignment_dir}\"')\n",
    "\n",
    "# cd to linked dir\n",
    "%cd -q {assignment_dest}\n",
    "print(f'Succesfully changed directory (cd) to \"{assignment_dest}\"')"
   ]
  },
  {
   "cell_type": "markdown",
   "metadata": {},
   "source": [
    "### Init"
   ]
  },
  {
   "cell_type": "code",
   "execution_count": 1,
   "metadata": {
    "cellView": "form",
    "colab": {
     "base_uri": "https://localhost:8080/"
    },
    "executionInfo": {
     "elapsed": 6252,
     "status": "ok",
     "timestamp": 1624290486044,
     "user": {
      "displayName": "דן שגב",
      "photoUrl": "https://lh3.googleusercontent.com/a-/AOh14Gi7FCvMmLvTnajgDdkYg9B1ycwqNy9Hnzq3-rHN4F4=s64",
      "userId": "03596052621647126252"
     },
     "user_tz": -180
    },
    "id": "rNN_hPZaHmTj",
    "outputId": "1bfd50ab-0ae8-45d8-c3bb-f8a500346bd0"
   },
   "outputs": [
    {
     "name": "stderr",
     "output_type": "stream",
     "text": [
      "\u001b[34m\u001b[1mwandb\u001b[0m: Currently logged in as: \u001b[33msgvdan\u001b[0m (use `wandb login --relogin` to force relogin)\n"
     ]
    },
    {
     "name": "stdout",
     "output_type": "stream",
     "text": [
      "Sat Jul 24 19:26:29 2021       \n",
      "+-----------------------------------------------------------------------------+\n",
      "| NVIDIA-SMI 455.45.01    Driver Version: 455.45.01    CUDA Version: 11.1     |\n",
      "|-------------------------------+----------------------+----------------------+\n",
      "| GPU  Name        Persistence-M| Bus-Id        Disp.A | Volatile Uncorr. ECC |\n",
      "| Fan  Temp  Perf  Pwr:Usage/Cap|         Memory-Usage | GPU-Util  Compute M. |\n",
      "|                               |                      |               MIG M. |\n",
      "|===============================+======================+======================|\n",
      "|   0  Quadro RTX 8000     Off  | 00000000:14:00.0 Off |                  Off |\n",
      "| 33%   30C    P8     8W / 260W |      0MiB / 48601MiB |      0%      Default |\n",
      "|                               |                      |                  N/A |\n",
      "+-------------------------------+----------------------+----------------------+\n",
      "                                                                               \n",
      "+-----------------------------------------------------------------------------+\n",
      "| Processes:                                                                  |\n",
      "|  GPU   GI   CI        PID   Type   Process name                  GPU Memory |\n",
      "|        ID   ID                                                   Usage      |\n",
      "|=============================================================================|\n",
      "|  No running processes found                                                 |\n",
      "+-----------------------------------------------------------------------------+\n",
      "Possible models:\n",
      "Model vgg19                     -> accuracy 1.0\n",
      "Model vgg19_seg                 -> accuracy 0.949999988079071\n",
      "Model vgg19_seg_medium          -> accuracy 0.8500000238418579\n",
      "Model vgg19_seg_small           -> accuracy 0.7166666984558105\n"
     ]
    }
   ],
   "source": [
    "#@title ##Init\n",
    "\n",
    "#@markdown Import required modules and observe your resources\n",
    "\n",
    "# auto reload\n",
    "%load_ext autoreload\n",
    "%autoreload 2\n",
    "\n",
    "# import\n",
    "import torch\n",
    "import torchvision\n",
    "from PIL import Image\n",
    "import matplotlib.pyplot as plt\n",
    "import random\n",
    "import os\n",
    "import wandb\n",
    "wandb.login()\n",
    "\n",
    "from experiment import Experiment\n",
    "from post_process import get_masks_from_heatmaps, present_masks, calc_iou\n",
    "from data import DataGenerator, SegmentationGenerator\n",
    "from train import get_best_models_dict\n",
    "\n",
    "# Show resources\n",
    "!nvidia-smi\n",
    "# Show possible models\n",
    "print(\"Possible models:\")\n",
    "models_dict = get_best_models_dict()\n",
    "for model in sorted(models_dict):\n",
    "    print(\"Model {model} {spaces}-> accuracy {acc}\".format(spaces=\" \"*(25-len(model)), model=model, acc=models_dict[model]))"
   ]
  },
  {
   "cell_type": "markdown",
   "metadata": {
    "id": "laVqGfGrHmTl"
   },
   "source": [
    "### Set Configs"
   ]
  },
  {
   "cell_type": "code",
   "execution_count": 11,
   "metadata": {},
   "outputs": [],
   "source": [
    "default_config = {\n",
    "    \"model_name\": \"vgg19_seg\",\n",
    "    \"input_size\": (256,256), \n",
    "    \"occlusion_size\": (30,30),\n",
    "    \n",
    "    \"epochs\": 0,\n",
    "  \n",
    "    #\"data_train_class\": DataGenerator,         \"data_train_path\": os.path.join(\".\", \"Data\", \"Training\"),\n",
    "    #\"data_test_class\": DataGenerator,          \"data_test_path\":  os.path.join(\".\", \"Data\", \"Testing\"),\n",
    "    \"data_train_class\": SegmentationGenerator, \"data_train_path\": os.path.join(\".\", \"SegmentationData\", \"train\"), \n",
    "    \"data_test_class\": SegmentationGenerator,  \"data_test_path\":  os.path.join(\".\", \"SegmentationData\", \"test-compact\"),\n",
    "\n",
    "    \"gt_threshold\": 0,\n",
    "    \"heatmap_threshold\" : 0.575,\n",
    "\n",
    "    \"heat_layers\" : [['features', layer_num] for layer_num in [0, 2, 5, 7, 10, 12, 14, 16, 19, 21, 23, 25, 28, 30, 32, 34]],\n",
    "    \"ref_heat_layer\": ['classifier', -1],\n",
    "    \"mri_type\": \"T1c\", \n",
    "    \"train_batch_size\": 100,\n",
    "    \"lr\": 1e-4,\n",
    "    \"heatmap_batch_size\": 256,\n",
    "    \"smallest_contour_len\" : 30,\n",
    "    \"shuffle_data\": True,\n",
    "    \"device\": \"cuda\",\n",
    "    \"attributes_to_log\": [\"model_name\", \"occlusion_size\", \"heatmap_threshold\"]\n",
    "}\n",
    "\n",
    "sweep_config = {\n",
    "    'name' : 'my-sweep',\n",
    "    'method' : 'random',\n",
    "    'parameters' : {\n",
    "        'occlusion_size' : {'values' : [(10,10), (20,20), (30,30), (40,40), (50,50), (60,60)]},\n",
    "        'gt_threshold' : {'values' : [0, 1, 2]},\n",
    "        'heatmap_threshold' : {\n",
    "            'distribution' : 'uniform', \n",
    "            'min': 0.4, \n",
    "            'max': 0.9\n",
    "        }\n",
    "    },\n",
    "    'metric': {\n",
    "        'name': 'avg_iou',\n",
    "        'goal' : 'maximize'\n",
    "    }\n",
    "}\n",
    "\n",
    "def agent():\n",
    "    with wandb.init(project=\"BrainTumorDetection\", config=default_config):\n",
    "        config = wandb.config\n",
    "        experiment = Experiment(config)\n",
    "        iou = experiment.run()\n"
   ]
  },
  {
   "cell_type": "markdown",
   "metadata": {},
   "source": [
    "### Run Single Experiment"
   ]
  },
  {
   "cell_type": "code",
   "execution_count": 12,
   "metadata": {},
   "outputs": [
    {
     "data": {
      "text/html": [
       "\n",
       "                Tracking run with wandb version 0.11.0<br/>\n",
       "                Syncing run <strong style=\"color:#cdcd00\">morning-night-215</strong> to <a href=\"https://wandb.ai\" target=\"_blank\">Weights & Biases</a> <a href=\"https://docs.wandb.com/integrations/jupyter.html\" target=\"_blank\">(Documentation)</a>.<br/>\n",
       "                Project page: <a href=\"https://wandb.ai/sgvdan/BrainTumorDetection\" target=\"_blank\">https://wandb.ai/sgvdan/BrainTumorDetection</a><br/>\n",
       "                Run page: <a href=\"https://wandb.ai/sgvdan/BrainTumorDetection/runs/2jtw3vm6\" target=\"_blank\">https://wandb.ai/sgvdan/BrainTumorDetection/runs/2jtw3vm6</a><br/>\n",
       "                Run data is saved locally in <code>/home/labs/waic/sgvdan/workspace/BrainTumorDetection/wandb/run-20210724_195200-2jtw3vm6</code><br/><br/>\n",
       "            "
      ],
      "text/plain": [
       "<IPython.core.display.HTML object>"
      ]
     },
     "metadata": {},
     "output_type": "display_data"
    },
    {
     "name": "stdout",
     "output_type": "stream",
     "text": [
      "loading vgg19_seg model...\n",
      "loading best model state from: ./Models/vgg19_seg.pth\n"
     ]
    },
    {
     "name": "stderr",
     "output_type": "stream",
     "text": [
      "0it [00:00, ?it/s]"
     ]
    },
    {
     "name": "stdout",
     "output_type": "stream",
     "text": [
      "loading best model state from: ./Models/vgg19_seg.pth\n"
     ]
    },
    {
     "name": "stderr",
     "output_type": "stream",
     "text": [
      "\n"
     ]
    },
    {
     "name": "stdout",
     "output_type": "stream",
     "text": [
      "Model's accuracy: 0.9\n",
      "Creating heatmap...\n"
     ]
    },
    {
     "name": "stderr",
     "output_type": "stream",
     "text": [
      "100%|██████████| 256/256 [02:48<00:00,  1.52it/s]\n"
     ]
    },
    {
     "name": "stdout",
     "output_type": "stream",
     "text": [
      "Creating heatmap...\n"
     ]
    },
    {
     "name": "stderr",
     "output_type": "stream",
     "text": [
      "100%|██████████| 256/256 [02:50<00:00,  1.50it/s]\n"
     ]
    },
    {
     "name": "stdout",
     "output_type": "stream",
     "text": [
      "Creating heatmap...\n"
     ]
    },
    {
     "name": "stderr",
     "output_type": "stream",
     "text": [
      "100%|██████████| 256/256 [02:51<00:00,  1.50it/s]\n"
     ]
    },
    {
     "name": "stdout",
     "output_type": "stream",
     "text": [
      "Failed to smoothen contours :/    continuing...\n",
      "Creating heatmap...\n"
     ]
    },
    {
     "name": "stderr",
     "output_type": "stream",
     "text": [
      "100%|██████████| 256/256 [02:49<00:00,  1.51it/s]\n"
     ]
    },
    {
     "name": "stdout",
     "output_type": "stream",
     "text": [
      "Creating heatmap...\n"
     ]
    },
    {
     "name": "stderr",
     "output_type": "stream",
     "text": [
      "100%|██████████| 256/256 [02:54<00:00,  1.46it/s]\n"
     ]
    },
    {
     "name": "stdout",
     "output_type": "stream",
     "text": [
      "Creating heatmap...\n"
     ]
    },
    {
     "name": "stderr",
     "output_type": "stream",
     "text": [
      "100%|██████████| 256/256 [02:52<00:00,  1.48it/s]\n"
     ]
    },
    {
     "name": "stdout",
     "output_type": "stream",
     "text": [
      "Creating heatmap...\n"
     ]
    },
    {
     "name": "stderr",
     "output_type": "stream",
     "text": [
      "100%|██████████| 256/256 [02:48<00:00,  1.52it/s]\n"
     ]
    },
    {
     "name": "stdout",
     "output_type": "stream",
     "text": [
      "Creating heatmap...\n"
     ]
    },
    {
     "name": "stderr",
     "output_type": "stream",
     "text": [
      "100%|██████████| 256/256 [02:57<00:00,  1.44it/s]\n"
     ]
    },
    {
     "name": "stdout",
     "output_type": "stream",
     "text": [
      "Creating heatmap...\n"
     ]
    },
    {
     "name": "stderr",
     "output_type": "stream",
     "text": [
      "100%|██████████| 256/256 [02:55<00:00,  1.46it/s]\n"
     ]
    },
    {
     "name": "stdout",
     "output_type": "stream",
     "text": [
      "Creating heatmap...\n"
     ]
    },
    {
     "name": "stderr",
     "output_type": "stream",
     "text": [
      "100%|██████████| 256/256 [02:48<00:00,  1.52it/s]\n"
     ]
    },
    {
     "data": {
      "text/html": [
       "<br/>Waiting for W&B process to finish, PID 79572<br/>Program ended successfully."
      ],
      "text/plain": [
       "<IPython.core.display.HTML object>"
      ]
     },
     "metadata": {},
     "output_type": "display_data"
    },
    {
     "data": {
      "application/vnd.jupyter.widget-view+json": {
       "model_id": "",
       "version_major": 2,
       "version_minor": 0
      },
      "text/plain": [
       "VBox(children=(Label(value=' 14.81MB of 14.81MB uploaded (0.00MB deduped)\\r'), FloatProgress(value=0.999992788…"
      ]
     },
     "metadata": {},
     "output_type": "display_data"
    },
    {
     "data": {
      "text/html": [
       "Find user logs for this run at: <code>/home/labs/waic/sgvdan/workspace/BrainTumorDetection/wandb/run-20210724_195200-2jtw3vm6/logs/debug.log</code>"
      ],
      "text/plain": [
       "<IPython.core.display.HTML object>"
      ]
     },
     "metadata": {},
     "output_type": "display_data"
    },
    {
     "data": {
      "text/html": [
       "Find internal logs for this run at: <code>/home/labs/waic/sgvdan/workspace/BrainTumorDetection/wandb/run-20210724_195200-2jtw3vm6/logs/debug-internal.log</code>"
      ],
      "text/plain": [
       "<IPython.core.display.HTML object>"
      ]
     },
     "metadata": {},
     "output_type": "display_data"
    },
    {
     "data": {
      "text/html": [
       "<h3>Run summary:</h3><br/><style>\n",
       "    table.wandb td:nth-child(1) { padding: 0 10px; text-align: right }\n",
       "    </style><table class=\"wandb\">\n",
       "<tr><td>Test/accuracy/no</td><td>1.0</td></tr><tr><td>_runtime</td><td>1772</td></tr><tr><td>_timestamp</td><td>1627147292</td></tr><tr><td>_step</td><td>240</td></tr><tr><td>Test/accuracy/yes</td><td>0.8</td></tr><tr><td>Test/accuracy</td><td>0.9</td></tr><tr><td>#0/IOU/L['features', 0]C29</td><td>0.08056</td></tr><tr><td>#0/IOU/L['features', 2]C55</td><td>0.0</td></tr><tr><td>#0/IOU/L['features', 5]C29</td><td>0.0366</td></tr><tr><td>#0/IOU/L['features', 7]C71</td><td>0.12408</td></tr><tr><td>#0/IOU/L['features', 10]C208</td><td>0.05598</td></tr><tr><td>#0/IOU/L['features', 12]C121</td><td>0.064</td></tr><tr><td>#0/IOU/L['features', 14]C240</td><td>0.01116</td></tr><tr><td>#0/IOU/L['features', 16]C209</td><td>0.0273</td></tr><tr><td>#0/IOU/L['features', 19]C413</td><td>0.07848</td></tr><tr><td>#0/IOU/L['features', 21]C507</td><td>0.06673</td></tr><tr><td>#0/IOU/L['features', 23]C449</td><td>0.04689</td></tr><tr><td>#0/IOU/L['features', 25]C204</td><td>0.03526</td></tr><tr><td>#0/IOU/L['features', 28]C492</td><td>0.09567</td></tr><tr><td>#0/IOU/L['features', 30]C107</td><td>0.0963</td></tr><tr><td>#0/IOU/L['features', 32]C328</td><td>0.1662</td></tr><tr><td>#0/IOU/L['features', 34]C88</td><td>0.07742</td></tr><tr><td>#0/IOU/['classifier', -1]</td><td>0.0</td></tr><tr><td>#1/IOU/L['features', 0]C29</td><td>0.14052</td></tr><tr><td>#1/IOU/L['features', 2]C55</td><td>0.16036</td></tr><tr><td>#1/IOU/L['features', 5]C29</td><td>0.10806</td></tr><tr><td>#1/IOU/L['features', 7]C71</td><td>0.02524</td></tr><tr><td>#1/IOU/L['features', 10]C208</td><td>0.12764</td></tr><tr><td>#1/IOU/L['features', 12]C121</td><td>0.1224</td></tr><tr><td>#1/IOU/L['features', 14]C240</td><td>0.16858</td></tr><tr><td>#1/IOU/L['features', 16]C209</td><td>0.13527</td></tr><tr><td>#1/IOU/L['features', 19]C413</td><td>0.11294</td></tr><tr><td>#1/IOU/L['features', 21]C507</td><td>0.11942</td></tr><tr><td>#1/IOU/L['features', 23]C449</td><td>0.13967</td></tr><tr><td>#1/IOU/L['features', 25]C204</td><td>0.09823</td></tr><tr><td>#1/IOU/L['features', 28]C257</td><td>0.30984</td></tr><tr><td>#1/IOU/L['features', 30]C255</td><td>0.45633</td></tr><tr><td>#1/IOU/L['features', 32]C328</td><td>0.1162</td></tr><tr><td>#1/IOU/L['features', 34]C251</td><td>0.466</td></tr><tr><td>#1/IOU/['classifier', -1]</td><td>0.42241</td></tr><tr><td>#2/IOU/L['features', 0]C29</td><td>0.12987</td></tr><tr><td>#2/IOU/L['features', 2]C55</td><td>0.17638</td></tr><tr><td>#2/IOU/L['features', 5]C29</td><td>0.11193</td></tr><tr><td>#2/IOU/L['features', 7]C71</td><td>0.15871</td></tr><tr><td>#2/IOU/L['features', 10]C208</td><td>0.14971</td></tr><tr><td>#2/IOU/L['features', 12]C121</td><td>0.11805</td></tr><tr><td>#2/IOU/L['features', 14]C240</td><td>0.07277</td></tr><tr><td>#2/IOU/L['features', 16]C209</td><td>0.05312</td></tr><tr><td>#2/IOU/L['features', 19]C50</td><td>0.20688</td></tr><tr><td>#2/IOU/L['features', 21]C507</td><td>0.11685</td></tr><tr><td>#2/IOU/L['features', 23]C449</td><td>0.13968</td></tr><tr><td>#2/IOU/L['features', 25]C204</td><td>0.14528</td></tr><tr><td>#2/IOU/L['features', 28]C2</td><td>0.09325</td></tr><tr><td>#2/IOU/L['features', 30]C337</td><td>0.18882</td></tr><tr><td>#2/IOU/L['features', 32]C328</td><td>0.26573</td></tr><tr><td>#2/IOU/L['features', 34]C88</td><td>0.02002</td></tr><tr><td>#2/IOU/['classifier', -1]</td><td>0.0895</td></tr><tr><td>#3/IOU/L['features', 0]C29</td><td>0.13836</td></tr><tr><td>#3/IOU/L['features', 2]C55</td><td>0.04633</td></tr><tr><td>#3/IOU/L['features', 5]C29</td><td>0.0934</td></tr><tr><td>#3/IOU/L['features', 7]C71</td><td>0.18873</td></tr><tr><td>#3/IOU/L['features', 10]C208</td><td>0.11958</td></tr><tr><td>#3/IOU/L['features', 12]C121</td><td>0.11547</td></tr><tr><td>#3/IOU/L['features', 14]C240</td><td>0.10188</td></tr><tr><td>#3/IOU/L['features', 16]C209</td><td>0.09739</td></tr><tr><td>#3/IOU/L['features', 19]C413</td><td>0.175</td></tr><tr><td>#3/IOU/L['features', 21]C507</td><td>0.09841</td></tr><tr><td>#3/IOU/L['features', 23]C364</td><td>0.1689</td></tr><tr><td>#3/IOU/L['features', 25]C204</td><td>0.12755</td></tr><tr><td>#3/IOU/L['features', 28]C100</td><td>0.46808</td></tr><tr><td>#3/IOU/L['features', 30]C107</td><td>0.42647</td></tr><tr><td>#3/IOU/L['features', 32]C328</td><td>0.60957</td></tr><tr><td>#3/IOU/L['features', 34]C476</td><td>0.41881</td></tr><tr><td>#3/IOU/['classifier', -1]</td><td>0.3893</td></tr><tr><td>#4/IOU/L['features', 0]C29</td><td>0.16001</td></tr><tr><td>#4/IOU/L['features', 2]C55</td><td>0.00598</td></tr><tr><td>#4/IOU/L['features', 5]C29</td><td>0.2241</td></tr><tr><td>#4/IOU/L['features', 7]C71</td><td>0.20451</td></tr><tr><td>#4/IOU/L['features', 10]C208</td><td>0.03892</td></tr><tr><td>#4/IOU/L['features', 12]C121</td><td>0.15795</td></tr><tr><td>#4/IOU/L['features', 14]C240</td><td>0.12604</td></tr><tr><td>#4/IOU/L['features', 16]C209</td><td>0.21277</td></tr><tr><td>#4/IOU/L['features', 19]C50</td><td>0.4623</td></tr><tr><td>#4/IOU/L['features', 21]C507</td><td>0.14221</td></tr><tr><td>#4/IOU/L['features', 23]C191</td><td>0.14447</td></tr><tr><td>#4/IOU/L['features', 25]C204</td><td>0.00804</td></tr><tr><td>#4/IOU/L['features', 28]C257</td><td>0.5261</td></tr><tr><td>#4/IOU/L['features', 30]C107</td><td>0.47625</td></tr><tr><td>#4/IOU/L['features', 32]C328</td><td>0.35689</td></tr><tr><td>#4/IOU/L['features', 34]C476</td><td>0.49423</td></tr><tr><td>#4/IOU/['classifier', -1]</td><td>0.41891</td></tr><tr><td>#5/IOU/L['features', 0]C29</td><td>0.11999</td></tr><tr><td>#5/IOU/L['features', 2]C55</td><td>0.13818</td></tr><tr><td>#5/IOU/L['features', 5]C29</td><td>0.14364</td></tr><tr><td>#5/IOU/L['features', 7]C71</td><td>0.13148</td></tr><tr><td>#5/IOU/L['features', 10]C208</td><td>0.16213</td></tr><tr><td>#5/IOU/L['features', 12]C121</td><td>0.09308</td></tr><tr><td>#5/IOU/L['features', 14]C240</td><td>0.08697</td></tr><tr><td>#5/IOU/L['features', 16]C209</td><td>0.09027</td></tr><tr><td>#5/IOU/L['features', 19]C413</td><td>0.15978</td></tr><tr><td>#5/IOU/L['features', 21]C507</td><td>0.11903</td></tr><tr><td>#5/IOU/L['features', 23]C402</td><td>0.128</td></tr><tr><td>#5/IOU/L['features', 25]C204</td><td>0.14028</td></tr><tr><td>#5/IOU/L['features', 28]C257</td><td>0.67379</td></tr><tr><td>#5/IOU/L['features', 30]C255</td><td>0.72765</td></tr><tr><td>#5/IOU/L['features', 32]C14</td><td>0.71688</td></tr><tr><td>#5/IOU/L['features', 34]C476</td><td>0.72791</td></tr><tr><td>#5/IOU/['classifier', -1]</td><td>0.72621</td></tr><tr><td>#6/IOU/L['features', 0]C29</td><td>0.26622</td></tr><tr><td>#6/IOU/L['features', 2]C55</td><td>0.14547</td></tr><tr><td>#6/IOU/L['features', 5]C29</td><td>0.14261</td></tr><tr><td>#6/IOU/L['features', 7]C71</td><td>0.06567</td></tr><tr><td>#6/IOU/L['features', 10]C208</td><td>0.18721</td></tr><tr><td>#6/IOU/L['features', 12]C121</td><td>0.2227</td></tr><tr><td>#6/IOU/L['features', 14]C240</td><td>0.17828</td></tr><tr><td>#6/IOU/L['features', 16]C209</td><td>0.12635</td></tr><tr><td>#6/IOU/L['features', 19]C50</td><td>0.31834</td></tr><tr><td>#6/IOU/L['features', 21]C507</td><td>0.17109</td></tr><tr><td>#6/IOU/L['features', 23]C449</td><td>0.07554</td></tr><tr><td>#6/IOU/L['features', 25]C204</td><td>0.55924</td></tr><tr><td>#6/IOU/L['features', 28]C32</td><td>0.59147</td></tr><tr><td>#6/IOU/L['features', 30]C255</td><td>0.59057</td></tr><tr><td>#6/IOU/L['features', 32]C14</td><td>0.55442</td></tr><tr><td>#6/IOU/L['features', 34]C476</td><td>0.55606</td></tr><tr><td>#6/IOU/['classifier', -1]</td><td>0.53671</td></tr><tr><td>#7/IOU/L['features', 0]C29</td><td>0.3908</td></tr><tr><td>#7/IOU/L['features', 2]C55</td><td>0.30498</td></tr><tr><td>#7/IOU/L['features', 5]C29</td><td>0.09681</td></tr><tr><td>#7/IOU/L['features', 7]C71</td><td>0.26238</td></tr><tr><td>#7/IOU/L['features', 10]C208</td><td>0.30397</td></tr><tr><td>#7/IOU/L['features', 12]C121</td><td>0.25785</td></tr><tr><td>#7/IOU/L['features', 14]C240</td><td>0.35963</td></tr><tr><td>#7/IOU/L['features', 16]C209</td><td>0.1565</td></tr><tr><td>#7/IOU/L['features', 19]C413</td><td>0.21642</td></tr><tr><td>#7/IOU/L['features', 21]C507</td><td>0.27632</td></tr><tr><td>#7/IOU/L['features', 23]C402</td><td>0.17343</td></tr><tr><td>#7/IOU/L['features', 25]C204</td><td>0.14945</td></tr><tr><td>#7/IOU/L['features', 28]C257</td><td>0.35628</td></tr><tr><td>#7/IOU/L['features', 30]C107</td><td>0.54176</td></tr><tr><td>#7/IOU/L['features', 32]C328</td><td>0.47884</td></tr><tr><td>#7/IOU/L['features', 34]C476</td><td>0.39434</td></tr><tr><td>#7/IOU/['classifier', -1]</td><td>0.29178</td></tr><tr><td>#8/IOU/L['features', 0]C29</td><td>0.17805</td></tr><tr><td>#8/IOU/L['features', 2]C55</td><td>0.11217</td></tr><tr><td>#8/IOU/L['features', 5]C29</td><td>0.16878</td></tr><tr><td>#8/IOU/L['features', 7]C71</td><td>0.02999</td></tr><tr><td>#8/IOU/L['features', 10]C208</td><td>0.21487</td></tr><tr><td>#8/IOU/L['features', 12]C121</td><td>0.15115</td></tr><tr><td>#8/IOU/L['features', 14]C240</td><td>0.12456</td></tr><tr><td>#8/IOU/L['features', 16]C209</td><td>0.10144</td></tr><tr><td>#8/IOU/L['features', 19]C413</td><td>0.17523</td></tr><tr><td>#8/IOU/L['features', 21]C507</td><td>0.14303</td></tr><tr><td>#8/IOU/L['features', 23]C402</td><td>0.18081</td></tr><tr><td>#8/IOU/L['features', 25]C204</td><td>0.23862</td></tr><tr><td>#8/IOU/L['features', 28]C257</td><td>0.52535</td></tr><tr><td>#8/IOU/L['features', 30]C255</td><td>0.619</td></tr><tr><td>#8/IOU/L['features', 32]C14</td><td>0.62388</td></tr><tr><td>#8/IOU/L['features', 34]C476</td><td>0.56428</td></tr><tr><td>#8/IOU/['classifier', -1]</td><td>0.48989</td></tr><tr><td>#9/IOU/L['features', 0]C29</td><td>0.16326</td></tr><tr><td>#9/IOU/L['features', 2]C55</td><td>0.1411</td></tr><tr><td>#9/IOU/L['features', 5]C29</td><td>0.17392</td></tr><tr><td>#9/IOU/L['features', 7]C71</td><td>0.04211</td></tr><tr><td>#9/IOU/L['features', 10]C208</td><td>0.25491</td></tr><tr><td>#9/IOU/L['features', 12]C121</td><td>0.14667</td></tr><tr><td>#9/IOU/L['features', 14]C240</td><td>0.16627</td></tr><tr><td>#9/IOU/L['features', 16]C209</td><td>0.11095</td></tr><tr><td>#9/IOU/L['features', 19]C413</td><td>0.19324</td></tr><tr><td>#9/IOU/L['features', 21]C507</td><td>0.16596</td></tr><tr><td>#9/IOU/L['features', 23]C402</td><td>0.16067</td></tr><tr><td>#9/IOU/L['features', 25]C204</td><td>0.4547</td></tr><tr><td>#9/IOU/L['features', 28]C32</td><td>0.57876</td></tr><tr><td>#9/IOU/L['features', 30]C255</td><td>0.69222</td></tr><tr><td>#9/IOU/L['features', 32]C14</td><td>0.72197</td></tr><tr><td>#9/IOU/L['features', 34]C476</td><td>0.65171</td></tr><tr><td>#9/IOU/['classifier', -1]</td><td>0.61196</td></tr><tr><td>avg_iou/L['features', 0]C29</td><td>0.17676</td></tr><tr><td>avg_iou/L['features', 2]C55</td><td>0.12309</td></tr><tr><td>avg_iou/L['features', 5]C29</td><td>0.12999</td></tr><tr><td>avg_iou/L['features', 7]C71</td><td>0.12329</td></tr><tr><td>avg_iou/L['features', 10]C208</td><td>0.16149</td></tr><tr><td>avg_iou/L['features', 12]C121</td><td>0.14493</td></tr><tr><td>avg_iou/L['features', 14]C240</td><td>0.13961</td></tr><tr><td>avg_iou/L['features', 16]C209</td><td>0.11114</td></tr><tr><td>avg_iou/L['features', 19]C413</td><td>0.15873</td></tr><tr><td>avg_iou/L['features', 21]C507</td><td>0.1419</td></tr><tr><td>avg_iou/L['features', 23]C402</td><td>0.16073</td></tr><tr><td>avg_iou/L['features', 25]C204</td><td>0.19566</td></tr><tr><td>avg_iou/L['features', 28]C32</td><td>0.58512</td></tr><tr><td>avg_iou/L['features', 30]C255</td><td>0.61715</td></tr><tr><td>avg_iou/L['features', 32]C14</td><td>0.65429</td></tr><tr><td>avg_iou/L['features', 34]C476</td><td>0.5439</td></tr><tr><td>avg_iou/['classifier', -1]</td><td>0.39767</td></tr></table>"
      ],
      "text/plain": [
       "<IPython.core.display.HTML object>"
      ]
     },
     "metadata": {},
     "output_type": "display_data"
    },
    {
     "data": {
      "text/html": [
       "<h3>Run history:</h3><br/><style>\n",
       "    table.wandb td:nth-child(1) { padding: 0 10px; text-align: right }\n",
       "    </style><table class=\"wandb\">\n",
       "<tr><td>Test/accuracy/no</td><td>▁</td></tr><tr><td>_runtime</td><td>▁▂▂▂▂▂▂▂▃▃▃▃▄▄▄▄▅▅▅▅▅▅▅▆▆▆▇▇▇▇▇▇▇▇██████</td></tr><tr><td>_timestamp</td><td>▁▂▂▂▂▂▂▂▃▃▃▃▄▄▄▄▅▅▅▅▅▅▅▆▆▆▇▇▇▇▇▇▇▇██████</td></tr><tr><td>_step</td><td>▁▁▁▂▂▂▂▂▂▃▃▃▃▃▃▄▄▄▄▄▅▅▅▅▅▅▆▆▆▆▆▇▇▇▇▇▇███</td></tr><tr><td>Test/accuracy/yes</td><td>▁</td></tr><tr><td>Test/accuracy</td><td>▁</td></tr><tr><td>#0/IOU/L['features', 0]C29</td><td>▁</td></tr><tr><td>#0/IOU/L['features', 2]C55</td><td>▁</td></tr><tr><td>#0/IOU/L['features', 5]C29</td><td>▁</td></tr><tr><td>#0/IOU/L['features', 7]C71</td><td>▁</td></tr><tr><td>#0/IOU/L['features', 10]C208</td><td>▁</td></tr><tr><td>#0/IOU/L['features', 12]C121</td><td>▁</td></tr><tr><td>#0/IOU/L['features', 14]C240</td><td>▁</td></tr><tr><td>#0/IOU/L['features', 16]C209</td><td>▁</td></tr><tr><td>#0/IOU/L['features', 19]C413</td><td>▁</td></tr><tr><td>#0/IOU/L['features', 21]C507</td><td>▁</td></tr><tr><td>#0/IOU/L['features', 23]C449</td><td>▁</td></tr><tr><td>#0/IOU/L['features', 25]C204</td><td>▁</td></tr><tr><td>#0/IOU/L['features', 28]C492</td><td>▁</td></tr><tr><td>#0/IOU/L['features', 30]C107</td><td>▁</td></tr><tr><td>#0/IOU/L['features', 32]C328</td><td>▁</td></tr><tr><td>#0/IOU/L['features', 34]C88</td><td>▁</td></tr><tr><td>#0/IOU/['classifier', -1]</td><td>▁</td></tr><tr><td>#1/IOU/L['features', 0]C29</td><td>▁</td></tr><tr><td>#1/IOU/L['features', 2]C55</td><td>▁</td></tr><tr><td>#1/IOU/L['features', 5]C29</td><td>▁</td></tr><tr><td>#1/IOU/L['features', 7]C71</td><td>▁</td></tr><tr><td>#1/IOU/L['features', 10]C208</td><td>▁</td></tr><tr><td>#1/IOU/L['features', 12]C121</td><td>▁</td></tr><tr><td>#1/IOU/L['features', 14]C240</td><td>▁</td></tr><tr><td>#1/IOU/L['features', 16]C209</td><td>▁</td></tr><tr><td>#1/IOU/L['features', 19]C413</td><td>▁</td></tr><tr><td>#1/IOU/L['features', 21]C507</td><td>▁</td></tr><tr><td>#1/IOU/L['features', 23]C449</td><td>▁</td></tr><tr><td>#1/IOU/L['features', 25]C204</td><td>▁</td></tr><tr><td>#1/IOU/L['features', 28]C257</td><td>▁</td></tr><tr><td>#1/IOU/L['features', 30]C255</td><td>▁</td></tr><tr><td>#1/IOU/L['features', 32]C328</td><td>▁</td></tr><tr><td>#1/IOU/L['features', 34]C251</td><td>▁</td></tr><tr><td>#1/IOU/['classifier', -1]</td><td>▁</td></tr><tr><td>#2/IOU/L['features', 0]C29</td><td>▁</td></tr><tr><td>#2/IOU/L['features', 2]C55</td><td>▁</td></tr><tr><td>#2/IOU/L['features', 5]C29</td><td>▁</td></tr><tr><td>#2/IOU/L['features', 7]C71</td><td>▁</td></tr><tr><td>#2/IOU/L['features', 10]C208</td><td>▁</td></tr><tr><td>#2/IOU/L['features', 12]C121</td><td>▁</td></tr><tr><td>#2/IOU/L['features', 14]C240</td><td>▁</td></tr><tr><td>#2/IOU/L['features', 16]C209</td><td>▁</td></tr><tr><td>#2/IOU/L['features', 19]C50</td><td>▁</td></tr><tr><td>#2/IOU/L['features', 21]C507</td><td>▁</td></tr><tr><td>#2/IOU/L['features', 23]C449</td><td>▁</td></tr><tr><td>#2/IOU/L['features', 25]C204</td><td>▁</td></tr><tr><td>#2/IOU/L['features', 28]C2</td><td>▁</td></tr><tr><td>#2/IOU/L['features', 30]C337</td><td>▁</td></tr><tr><td>#2/IOU/L['features', 32]C328</td><td>▁</td></tr><tr><td>#2/IOU/L['features', 34]C88</td><td>▁</td></tr><tr><td>#2/IOU/['classifier', -1]</td><td>▁</td></tr><tr><td>#3/IOU/L['features', 0]C29</td><td>▁</td></tr><tr><td>#3/IOU/L['features', 2]C55</td><td>▁</td></tr><tr><td>#3/IOU/L['features', 5]C29</td><td>▁</td></tr><tr><td>#3/IOU/L['features', 7]C71</td><td>▁</td></tr><tr><td>#3/IOU/L['features', 10]C208</td><td>▁</td></tr><tr><td>#3/IOU/L['features', 12]C121</td><td>▁</td></tr><tr><td>#3/IOU/L['features', 14]C240</td><td>▁</td></tr><tr><td>#3/IOU/L['features', 16]C209</td><td>▁</td></tr><tr><td>#3/IOU/L['features', 19]C413</td><td>▁</td></tr><tr><td>#3/IOU/L['features', 21]C507</td><td>▁</td></tr><tr><td>#3/IOU/L['features', 23]C364</td><td>▁</td></tr><tr><td>#3/IOU/L['features', 25]C204</td><td>▁</td></tr><tr><td>#3/IOU/L['features', 28]C100</td><td>▁</td></tr><tr><td>#3/IOU/L['features', 30]C107</td><td>▁</td></tr><tr><td>#3/IOU/L['features', 32]C328</td><td>▁</td></tr><tr><td>#3/IOU/L['features', 34]C476</td><td>▁</td></tr><tr><td>#3/IOU/['classifier', -1]</td><td>▁</td></tr><tr><td>#4/IOU/L['features', 0]C29</td><td>▁</td></tr><tr><td>#4/IOU/L['features', 2]C55</td><td>▁</td></tr><tr><td>#4/IOU/L['features', 5]C29</td><td>▁</td></tr><tr><td>#4/IOU/L['features', 7]C71</td><td>▁</td></tr><tr><td>#4/IOU/L['features', 10]C208</td><td>▁</td></tr><tr><td>#4/IOU/L['features', 12]C121</td><td>▁</td></tr><tr><td>#4/IOU/L['features', 14]C240</td><td>▁</td></tr><tr><td>#4/IOU/L['features', 16]C209</td><td>▁</td></tr><tr><td>#4/IOU/L['features', 19]C50</td><td>▁</td></tr><tr><td>#4/IOU/L['features', 21]C507</td><td>▁</td></tr><tr><td>#4/IOU/L['features', 23]C191</td><td>▁</td></tr><tr><td>#4/IOU/L['features', 25]C204</td><td>▁</td></tr><tr><td>#4/IOU/L['features', 28]C257</td><td>▁</td></tr><tr><td>#4/IOU/L['features', 30]C107</td><td>▁</td></tr><tr><td>#4/IOU/L['features', 32]C328</td><td>▁</td></tr><tr><td>#4/IOU/L['features', 34]C476</td><td>▁</td></tr><tr><td>#4/IOU/['classifier', -1]</td><td>▁</td></tr><tr><td>#5/IOU/L['features', 0]C29</td><td>▁</td></tr><tr><td>#5/IOU/L['features', 2]C55</td><td>▁</td></tr><tr><td>#5/IOU/L['features', 5]C29</td><td>▁</td></tr><tr><td>#5/IOU/L['features', 7]C71</td><td>▁</td></tr><tr><td>#5/IOU/L['features', 10]C208</td><td>▁</td></tr><tr><td>#5/IOU/L['features', 12]C121</td><td>▁</td></tr><tr><td>#5/IOU/L['features', 14]C240</td><td>▁</td></tr><tr><td>#5/IOU/L['features', 16]C209</td><td>▁</td></tr><tr><td>#5/IOU/L['features', 19]C413</td><td>▁</td></tr><tr><td>#5/IOU/L['features', 21]C507</td><td>▁</td></tr><tr><td>#5/IOU/L['features', 23]C402</td><td>▁</td></tr><tr><td>#5/IOU/L['features', 25]C204</td><td>▁</td></tr><tr><td>#5/IOU/L['features', 28]C257</td><td>▁</td></tr><tr><td>#5/IOU/L['features', 30]C255</td><td>▁</td></tr><tr><td>#5/IOU/L['features', 32]C14</td><td>▁</td></tr><tr><td>#5/IOU/L['features', 34]C476</td><td>▁</td></tr><tr><td>#5/IOU/['classifier', -1]</td><td>▁</td></tr><tr><td>#6/IOU/L['features', 0]C29</td><td>▁</td></tr><tr><td>#6/IOU/L['features', 2]C55</td><td>▁</td></tr><tr><td>#6/IOU/L['features', 5]C29</td><td>▁</td></tr><tr><td>#6/IOU/L['features', 7]C71</td><td>▁</td></tr><tr><td>#6/IOU/L['features', 10]C208</td><td>▁</td></tr><tr><td>#6/IOU/L['features', 12]C121</td><td>▁</td></tr><tr><td>#6/IOU/L['features', 14]C240</td><td>▁</td></tr><tr><td>#6/IOU/L['features', 16]C209</td><td>▁</td></tr><tr><td>#6/IOU/L['features', 19]C50</td><td>▁</td></tr><tr><td>#6/IOU/L['features', 21]C507</td><td>▁</td></tr><tr><td>#6/IOU/L['features', 23]C449</td><td>▁</td></tr><tr><td>#6/IOU/L['features', 25]C204</td><td>▁</td></tr><tr><td>#6/IOU/L['features', 28]C32</td><td>▁</td></tr><tr><td>#6/IOU/L['features', 30]C255</td><td>▁</td></tr><tr><td>#6/IOU/L['features', 32]C14</td><td>▁</td></tr><tr><td>#6/IOU/L['features', 34]C476</td><td>▁</td></tr><tr><td>#6/IOU/['classifier', -1]</td><td>▁</td></tr><tr><td>#7/IOU/L['features', 0]C29</td><td>▁</td></tr><tr><td>#7/IOU/L['features', 2]C55</td><td>▁</td></tr><tr><td>#7/IOU/L['features', 5]C29</td><td>▁</td></tr><tr><td>#7/IOU/L['features', 7]C71</td><td>▁</td></tr><tr><td>#7/IOU/L['features', 10]C208</td><td>▁</td></tr><tr><td>#7/IOU/L['features', 12]C121</td><td>▁</td></tr><tr><td>#7/IOU/L['features', 14]C240</td><td>▁</td></tr><tr><td>#7/IOU/L['features', 16]C209</td><td>▁</td></tr><tr><td>#7/IOU/L['features', 19]C413</td><td>▁</td></tr><tr><td>#7/IOU/L['features', 21]C507</td><td>▁</td></tr><tr><td>#7/IOU/L['features', 23]C402</td><td>▁</td></tr><tr><td>#7/IOU/L['features', 25]C204</td><td>▁</td></tr><tr><td>#7/IOU/L['features', 28]C257</td><td>▁</td></tr><tr><td>#7/IOU/L['features', 30]C107</td><td>▁</td></tr><tr><td>#7/IOU/L['features', 32]C328</td><td>▁</td></tr><tr><td>#7/IOU/L['features', 34]C476</td><td>▁</td></tr><tr><td>#7/IOU/['classifier', -1]</td><td>▁</td></tr><tr><td>#8/IOU/L['features', 0]C29</td><td>▁</td></tr><tr><td>#8/IOU/L['features', 2]C55</td><td>▁</td></tr><tr><td>#8/IOU/L['features', 5]C29</td><td>▁</td></tr><tr><td>#8/IOU/L['features', 7]C71</td><td>▁</td></tr><tr><td>#8/IOU/L['features', 10]C208</td><td>▁</td></tr><tr><td>#8/IOU/L['features', 12]C121</td><td>▁</td></tr><tr><td>#8/IOU/L['features', 14]C240</td><td>▁</td></tr><tr><td>#8/IOU/L['features', 16]C209</td><td>▁</td></tr><tr><td>#8/IOU/L['features', 19]C413</td><td>▁</td></tr><tr><td>#8/IOU/L['features', 21]C507</td><td>▁</td></tr><tr><td>#8/IOU/L['features', 23]C402</td><td>▁</td></tr><tr><td>#8/IOU/L['features', 25]C204</td><td>▁</td></tr><tr><td>#8/IOU/L['features', 28]C257</td><td>▁</td></tr><tr><td>#8/IOU/L['features', 30]C255</td><td>▁</td></tr><tr><td>#8/IOU/L['features', 32]C14</td><td>▁</td></tr><tr><td>#8/IOU/L['features', 34]C476</td><td>▁</td></tr><tr><td>#8/IOU/['classifier', -1]</td><td>▁</td></tr><tr><td>#9/IOU/L['features', 0]C29</td><td>▁</td></tr><tr><td>#9/IOU/L['features', 2]C55</td><td>▁</td></tr><tr><td>#9/IOU/L['features', 5]C29</td><td>▁</td></tr><tr><td>#9/IOU/L['features', 7]C71</td><td>▁</td></tr><tr><td>#9/IOU/L['features', 10]C208</td><td>▁</td></tr><tr><td>#9/IOU/L['features', 12]C121</td><td>▁</td></tr><tr><td>#9/IOU/L['features', 14]C240</td><td>▁</td></tr><tr><td>#9/IOU/L['features', 16]C209</td><td>▁</td></tr><tr><td>#9/IOU/L['features', 19]C413</td><td>▁</td></tr><tr><td>#9/IOU/L['features', 21]C507</td><td>▁</td></tr><tr><td>#9/IOU/L['features', 23]C402</td><td>▁</td></tr><tr><td>#9/IOU/L['features', 25]C204</td><td>▁</td></tr><tr><td>#9/IOU/L['features', 28]C32</td><td>▁</td></tr><tr><td>#9/IOU/L['features', 30]C255</td><td>▁</td></tr><tr><td>#9/IOU/L['features', 32]C14</td><td>▁</td></tr><tr><td>#9/IOU/L['features', 34]C476</td><td>▁</td></tr><tr><td>#9/IOU/['classifier', -1]</td><td>▁</td></tr><tr><td>avg_iou/L['features', 0]C29</td><td>▁</td></tr><tr><td>avg_iou/L['features', 2]C55</td><td>▁</td></tr><tr><td>avg_iou/L['features', 5]C29</td><td>▁</td></tr><tr><td>avg_iou/L['features', 7]C71</td><td>▁</td></tr><tr><td>avg_iou/L['features', 10]C208</td><td>▁</td></tr><tr><td>avg_iou/L['features', 12]C121</td><td>▁</td></tr><tr><td>avg_iou/L['features', 14]C240</td><td>▁</td></tr><tr><td>avg_iou/L['features', 16]C209</td><td>▁</td></tr><tr><td>avg_iou/L['features', 19]C413</td><td>▁</td></tr><tr><td>avg_iou/L['features', 21]C507</td><td>▁</td></tr><tr><td>avg_iou/L['features', 23]C402</td><td>▁</td></tr><tr><td>avg_iou/L['features', 25]C204</td><td>▁</td></tr><tr><td>avg_iou/L['features', 28]C32</td><td>▁</td></tr><tr><td>avg_iou/L['features', 30]C255</td><td>▁</td></tr><tr><td>avg_iou/L['features', 32]C14</td><td>▁</td></tr><tr><td>avg_iou/L['features', 34]C476</td><td>▁</td></tr><tr><td>avg_iou/['classifier', -1]</td><td>▁</td></tr></table><br/>"
      ],
      "text/plain": [
       "<IPython.core.display.HTML object>"
      ]
     },
     "metadata": {},
     "output_type": "display_data"
    },
    {
     "data": {
      "text/html": [
       "Synced 6 W&B file(s), 691 media file(s), 1 artifact file(s) and 0 other file(s)"
      ],
      "text/plain": [
       "<IPython.core.display.HTML object>"
      ]
     },
     "metadata": {},
     "output_type": "display_data"
    },
    {
     "data": {
      "text/html": [
       "\n",
       "                    <br/>Synced <strong style=\"color:#cdcd00\">morning-night-215</strong>: <a href=\"https://wandb.ai/sgvdan/BrainTumorDetection/runs/2jtw3vm6\" target=\"_blank\">https://wandb.ai/sgvdan/BrainTumorDetection/runs/2jtw3vm6</a><br/>\n",
       "                "
      ],
      "text/plain": [
       "<IPython.core.display.HTML object>"
      ]
     },
     "metadata": {},
     "output_type": "display_data"
    }
   ],
   "source": [
    "agent()"
   ]
  },
  {
   "cell_type": "markdown",
   "metadata": {},
   "source": [
    "### Sweep over many Experiments"
   ]
  },
  {
   "cell_type": "code",
   "execution_count": null,
   "metadata": {},
   "outputs": [
    {
     "name": "stdout",
     "output_type": "stream",
     "text": [
      "Create sweep with ID: 83axjamh\n",
      "Sweep URL: https://wandb.ai/ubrats/Unsupervised-BRATS/sweeps/83axjamh\n",
      "Sweep ID: 83axjamh\n"
     ]
    },
    {
     "name": "stderr",
     "output_type": "stream",
     "text": [
      "\u001b[34m\u001b[1mwandb\u001b[0m: Agent Starting Run: 3xti9xmv with config:\n",
      "\u001b[34m\u001b[1mwandb\u001b[0m: \tgt_threshold: 0\n",
      "\u001b[34m\u001b[1mwandb\u001b[0m: \theatmap_threshold: 0.550324241541464\n",
      "\u001b[34m\u001b[1mwandb\u001b[0m: \tocclusion_size: [10, 10]\n",
      "\u001b[34m\u001b[1mwandb\u001b[0m: \u001b[33mWARNING\u001b[0m Ignored wandb.init() arg project when running a sweep\n",
      "\u001b[34m\u001b[1mwandb\u001b[0m: wandb version 0.11.0 is available!  To upgrade, please run:\n",
      "\u001b[34m\u001b[1mwandb\u001b[0m:  $ pip install wandb --upgrade\n"
     ]
    },
    {
     "data": {
      "text/html": [
       "\n",
       "                Tracking run with wandb version 0.10.32<br/>\n",
       "                Syncing run <strong style=\"color:#cdcd00\">toasty-sweep-1</strong> to <a href=\"https://wandb.ai\" target=\"_blank\">Weights & Biases</a> <a href=\"https://docs.wandb.com/integrations/jupyter.html\" target=\"_blank\">(Documentation)</a>.<br/>\n",
       "                Project page: <a href=\"https://wandb.ai/ubrats/Unsupervised-BRATS\" target=\"_blank\">https://wandb.ai/ubrats/Unsupervised-BRATS</a><br/>\n",
       "                Sweep page: <a href=\"https://wandb.ai/ubrats/Unsupervised-BRATS/sweeps/83axjamh\" target=\"_blank\">https://wandb.ai/ubrats/Unsupervised-BRATS/sweeps/83axjamh</a><br/>\n",
       "Run page: <a href=\"https://wandb.ai/ubrats/Unsupervised-BRATS/runs/3xti9xmv\" target=\"_blank\">https://wandb.ai/ubrats/Unsupervised-BRATS/runs/3xti9xmv</a><br/>\n",
       "                Run data is saved locally in <code>/home/labs/waic/itaian/BrainTumorDetection/wandb/run-20210722_110958-3xti9xmv</code><br/><br/>\n",
       "            "
      ],
      "text/plain": [
       "<IPython.core.display.HTML object>"
      ]
     },
     "metadata": {},
     "output_type": "display_data"
    },
    {
     "name": "stdout",
     "output_type": "stream",
     "text": [
      "loading vgg19_seg model...\n",
      "loading best model state from: ./Models/vgg19_seg.pth\n"
     ]
    },
    {
     "name": "stderr",
     "output_type": "stream",
     "text": [
      "0it [00:00, ?it/s]"
     ]
    },
    {
     "name": "stdout",
     "output_type": "stream",
     "text": [
      "loading best model state from: ./Models/vgg19_seg.pth\n"
     ]
    },
    {
     "name": "stderr",
     "output_type": "stream",
     "text": [
      "\n"
     ]
    },
    {
     "name": "stdout",
     "output_type": "stream",
     "text": [
      "Model's accuracy: 0.9\n"
     ]
    },
    {
     "name": "stderr",
     "output_type": "stream",
     "text": [
      "/home/labs/waic/itaian/.conda/envs/itai-env/lib/python3.9/site-packages/torch/nn/functional.py:718: UserWarning: Named tensors and all their associated APIs are an experimental feature and subject to change. Please do not use them for anything important until they are released as stable. (Triggered internally at  /opt/conda/conda-bld/pytorch_1623448238472/work/c10/core/TensorImpl.h:1156.)\n",
      "  return torch.max_pool2d(input, kernel_size, stride, padding, dilation, ceil_mode)\n"
     ]
    },
    {
     "name": "stdout",
     "output_type": "stream",
     "text": [
      "Creating heatmap...\n"
     ]
    },
    {
     "name": "stderr",
     "output_type": "stream",
     "text": [
      "  6%|▋         | 16/256 [00:10<02:35,  1.54it/s]"
     ]
    }
   ],
   "source": [
    "sweep_id = wandb.sweep(sweep_config, entity='UBRATS', project='Unsupervised-BRATS')\n",
    "print(\"Sweep ID:\", sweep_id)\n",
    "count = 100\n",
    "wandb.agent(sweep_id, function=agent, count=count)"
   ]
  },
  {
   "cell_type": "markdown",
   "metadata": {},
   "source": [
    "### Debug"
   ]
  },
  {
   "cell_type": "code",
   "execution_count": null,
   "metadata": {},
   "outputs": [],
   "source": [
    "from matplotlib import pyplot as plt\n",
    "\n",
    "default_config[\"data_train_class\"] = \"data.SegmentationGenerator\"\n",
    "default_config[\"data_test_class\"] = \"data.SegmentationGenerator\"\n",
    "\n",
    "experiment = Experiment(default_config)"
   ]
  },
  {
   "cell_type": "code",
   "execution_count": null,
   "metadata": {},
   "outputs": [],
   "source": [
    "def imshow(image, title):\n",
    "    plt.figure()\n",
    "    plt.imshow(image, cmap=\"gray\")\n",
    "    plt.title(title)\n",
    "mins = []\n",
    "maxs = []\n",
    "\n",
    "for image_num in range(len(experiment.test_dataset) // 2):\n",
    "    title = \"#{image_num}\".format(image_num=image_num)\n",
    "    # Original image\n",
    "    original_image, (gt_mask, gt_) = experiment.test_dataset[image_num * 2 + 1]\n",
    "    mins.append(gt_mask.min().item())\n",
    "    maxs.append(gt_mask.max().item())\n",
    "    \n",
    "    imshow(gt_mask, title)\n",
    "    for i in range(5):\n",
    "        imshow(gt_mask > i, title + \" > \" + str(i))\n"
   ]
  }
 ],
 "metadata": {
  "colab": {
   "collapsed_sections": [],
   "name": "BrainTumorDetection.ipynb",
   "version": ""
  },
  "kernelspec": {
   "display_name": "Python 3",
   "language": "python",
   "name": "python3"
  },
  "language_info": {
   "codemirror_mode": {
    "name": "ipython",
    "version": 3
   },
   "file_extension": ".py",
   "mimetype": "text/x-python",
   "name": "python",
   "nbconvert_exporter": "python",
   "pygments_lexer": "ipython3",
   "version": "3.8.5"
  },
  "widgets": {
   "application/vnd.jupyter.widget-state+json": {
    "04f4387e7e43438c9fdff53a8bd185f9": {
     "model_module": "@jupyter-widgets/base",
     "model_name": "LayoutModel",
     "state": {
      "_model_module": "@jupyter-widgets/base",
      "_model_module_version": "1.2.0",
      "_model_name": "LayoutModel",
      "_view_count": null,
      "_view_module": "@jupyter-widgets/base",
      "_view_module_version": "1.2.0",
      "_view_name": "LayoutView",
      "align_content": null,
      "align_items": null,
      "align_self": null,
      "border": null,
      "bottom": null,
      "display": null,
      "flex": null,
      "flex_flow": null,
      "grid_area": null,
      "grid_auto_columns": null,
      "grid_auto_flow": null,
      "grid_auto_rows": null,
      "grid_column": null,
      "grid_gap": null,
      "grid_row": null,
      "grid_template_areas": null,
      "grid_template_columns": null,
      "grid_template_rows": null,
      "height": null,
      "justify_content": null,
      "justify_items": null,
      "left": null,
      "margin": null,
      "max_height": null,
      "max_width": null,
      "min_height": null,
      "min_width": null,
      "object_fit": null,
      "object_position": null,
      "order": null,
      "overflow": null,
      "overflow_x": null,
      "overflow_y": null,
      "padding": null,
      "right": null,
      "top": null,
      "visibility": null,
      "width": null
     }
    },
    "0a3020a0f2f64dd19884e929a08c369a": {
     "model_module": "@jupyter-widgets/controls",
     "model_name": "DescriptionStyleModel",
     "state": {
      "_model_module": "@jupyter-widgets/controls",
      "_model_module_version": "1.5.0",
      "_model_name": "DescriptionStyleModel",
      "_view_count": null,
      "_view_module": "@jupyter-widgets/base",
      "_view_module_version": "1.2.0",
      "_view_name": "StyleView",
      "description_width": ""
     }
    },
    "0f9632a8291046188ac3c21b79001af7": {
     "model_module": "@jupyter-widgets/controls",
     "model_name": "FloatProgressModel",
     "state": {
      "_dom_classes": [],
      "_model_module": "@jupyter-widgets/controls",
      "_model_module_version": "1.5.0",
      "_model_name": "FloatProgressModel",
      "_view_count": null,
      "_view_module": "@jupyter-widgets/controls",
      "_view_module_version": "1.5.0",
      "_view_name": "ProgressView",
      "bar_style": "success",
      "description": "100%",
      "description_tooltip": null,
      "layout": "IPY_MODEL_f94c7486d8714ca694e85ae94ae08865",
      "max": 574673361,
      "min": 0,
      "orientation": "horizontal",
      "style": "IPY_MODEL_75a2c9d36604429e979e3a03cbc1ee3d",
      "value": 574673361
     }
    },
    "18ba561eeed54e6489c5aacbf24969e0": {
     "model_module": "@jupyter-widgets/controls",
     "model_name": "HTMLModel",
     "state": {
      "_dom_classes": [],
      "_model_module": "@jupyter-widgets/controls",
      "_model_module_version": "1.5.0",
      "_model_name": "HTMLModel",
      "_view_count": null,
      "_view_module": "@jupyter-widgets/controls",
      "_view_module_version": "1.5.0",
      "_view_name": "HTMLView",
      "description": "",
      "description_tooltip": null,
      "layout": "IPY_MODEL_59eb31a721ae4b64abbf5fca3d2c7e83",
      "placeholder": "​",
      "style": "IPY_MODEL_0a3020a0f2f64dd19884e929a08c369a",
      "value": " 548M/548M [00:03&lt;00:00, 161MB/s]"
     }
    },
    "1a3d9ff6b0f84a89991000a438be578b": {
     "model_module": "@jupyter-widgets/controls",
     "model_name": "HBoxModel",
     "state": {
      "_dom_classes": [],
      "_model_module": "@jupyter-widgets/controls",
      "_model_module_version": "1.5.0",
      "_model_name": "HBoxModel",
      "_view_count": null,
      "_view_module": "@jupyter-widgets/controls",
      "_view_module_version": "1.5.0",
      "_view_name": "HBoxView",
      "box_style": "",
      "children": [
       "IPY_MODEL_0f9632a8291046188ac3c21b79001af7",
       "IPY_MODEL_18ba561eeed54e6489c5aacbf24969e0"
      ],
      "layout": "IPY_MODEL_4f45e8a590c44cf5be6590c9d402064b"
     }
    },
    "4f45e8a590c44cf5be6590c9d402064b": {
     "model_module": "@jupyter-widgets/base",
     "model_name": "LayoutModel",
     "state": {
      "_model_module": "@jupyter-widgets/base",
      "_model_module_version": "1.2.0",
      "_model_name": "LayoutModel",
      "_view_count": null,
      "_view_module": "@jupyter-widgets/base",
      "_view_module_version": "1.2.0",
      "_view_name": "LayoutView",
      "align_content": null,
      "align_items": null,
      "align_self": null,
      "border": null,
      "bottom": null,
      "display": null,
      "flex": null,
      "flex_flow": null,
      "grid_area": null,
      "grid_auto_columns": null,
      "grid_auto_flow": null,
      "grid_auto_rows": null,
      "grid_column": null,
      "grid_gap": null,
      "grid_row": null,
      "grid_template_areas": null,
      "grid_template_columns": null,
      "grid_template_rows": null,
      "height": null,
      "justify_content": null,
      "justify_items": null,
      "left": null,
      "margin": null,
      "max_height": null,
      "max_width": null,
      "min_height": null,
      "min_width": null,
      "object_fit": null,
      "object_position": null,
      "order": null,
      "overflow": null,
      "overflow_x": null,
      "overflow_y": null,
      "padding": null,
      "right": null,
      "top": null,
      "visibility": null,
      "width": null
     }
    },
    "52de28e9bc6a4035b00467e894f6c048": {
     "model_module": "@jupyter-widgets/controls",
     "model_name": "DescriptionStyleModel",
     "state": {
      "_model_module": "@jupyter-widgets/controls",
      "_model_module_version": "1.5.0",
      "_model_name": "DescriptionStyleModel",
      "_view_count": null,
      "_view_module": "@jupyter-widgets/base",
      "_view_module_version": "1.2.0",
      "_view_name": "StyleView",
      "description_width": ""
     }
    },
    "59eb31a721ae4b64abbf5fca3d2c7e83": {
     "model_module": "@jupyter-widgets/base",
     "model_name": "LayoutModel",
     "state": {
      "_model_module": "@jupyter-widgets/base",
      "_model_module_version": "1.2.0",
      "_model_name": "LayoutModel",
      "_view_count": null,
      "_view_module": "@jupyter-widgets/base",
      "_view_module_version": "1.2.0",
      "_view_name": "LayoutView",
      "align_content": null,
      "align_items": null,
      "align_self": null,
      "border": null,
      "bottom": null,
      "display": null,
      "flex": null,
      "flex_flow": null,
      "grid_area": null,
      "grid_auto_columns": null,
      "grid_auto_flow": null,
      "grid_auto_rows": null,
      "grid_column": null,
      "grid_gap": null,
      "grid_row": null,
      "grid_template_areas": null,
      "grid_template_columns": null,
      "grid_template_rows": null,
      "height": null,
      "justify_content": null,
      "justify_items": null,
      "left": null,
      "margin": null,
      "max_height": null,
      "max_width": null,
      "min_height": null,
      "min_width": null,
      "object_fit": null,
      "object_position": null,
      "order": null,
      "overflow": null,
      "overflow_x": null,
      "overflow_y": null,
      "padding": null,
      "right": null,
      "top": null,
      "visibility": null,
      "width": null
     }
    },
    "6ce234089638421b89bb3da75fc9ede8": {
     "model_module": "@jupyter-widgets/controls",
     "model_name": "HBoxModel",
     "state": {
      "_dom_classes": [],
      "_model_module": "@jupyter-widgets/controls",
      "_model_module_version": "1.5.0",
      "_model_name": "HBoxModel",
      "_view_count": null,
      "_view_module": "@jupyter-widgets/controls",
      "_view_module_version": "1.5.0",
      "_view_name": "HBoxView",
      "box_style": "",
      "children": [
       "IPY_MODEL_7f33ec580a834f7aadce4b6728cc7b96",
       "IPY_MODEL_f42e1786cd2e454e857aa05288a3ce20"
      ],
      "layout": "IPY_MODEL_04f4387e7e43438c9fdff53a8bd185f9"
     }
    },
    "75a2c9d36604429e979e3a03cbc1ee3d": {
     "model_module": "@jupyter-widgets/controls",
     "model_name": "ProgressStyleModel",
     "state": {
      "_model_module": "@jupyter-widgets/controls",
      "_model_module_version": "1.5.0",
      "_model_name": "ProgressStyleModel",
      "_view_count": null,
      "_view_module": "@jupyter-widgets/base",
      "_view_module_version": "1.2.0",
      "_view_name": "StyleView",
      "bar_color": null,
      "description_width": "initial"
     }
    },
    "7c48b8d574ba47c988cf494f7b82a57c": {
     "model_module": "@jupyter-widgets/base",
     "model_name": "LayoutModel",
     "state": {
      "_model_module": "@jupyter-widgets/base",
      "_model_module_version": "1.2.0",
      "_model_name": "LayoutModel",
      "_view_count": null,
      "_view_module": "@jupyter-widgets/base",
      "_view_module_version": "1.2.0",
      "_view_name": "LayoutView",
      "align_content": null,
      "align_items": null,
      "align_self": null,
      "border": null,
      "bottom": null,
      "display": null,
      "flex": null,
      "flex_flow": null,
      "grid_area": null,
      "grid_auto_columns": null,
      "grid_auto_flow": null,
      "grid_auto_rows": null,
      "grid_column": null,
      "grid_gap": null,
      "grid_row": null,
      "grid_template_areas": null,
      "grid_template_columns": null,
      "grid_template_rows": null,
      "height": null,
      "justify_content": null,
      "justify_items": null,
      "left": null,
      "margin": null,
      "max_height": null,
      "max_width": null,
      "min_height": null,
      "min_width": null,
      "object_fit": null,
      "object_position": null,
      "order": null,
      "overflow": null,
      "overflow_x": null,
      "overflow_y": null,
      "padding": null,
      "right": null,
      "top": null,
      "visibility": null,
      "width": null
     }
    },
    "7f33ec580a834f7aadce4b6728cc7b96": {
     "model_module": "@jupyter-widgets/controls",
     "model_name": "FloatProgressModel",
     "state": {
      "_dom_classes": [],
      "_model_module": "@jupyter-widgets/controls",
      "_model_module_version": "1.5.0",
      "_model_name": "FloatProgressModel",
      "_view_count": null,
      "_view_module": "@jupyter-widgets/controls",
      "_view_module_version": "1.5.0",
      "_view_name": "ProgressView",
      "bar_style": "success",
      "description": "100%",
      "description_tooltip": null,
      "layout": "IPY_MODEL_7c48b8d574ba47c988cf494f7b82a57c",
      "max": 574673361,
      "min": 0,
      "orientation": "horizontal",
      "style": "IPY_MODEL_e41f9a252c6d424d9e46db9fbff24f51",
      "value": 574673361
     }
    },
    "e41f9a252c6d424d9e46db9fbff24f51": {
     "model_module": "@jupyter-widgets/controls",
     "model_name": "ProgressStyleModel",
     "state": {
      "_model_module": "@jupyter-widgets/controls",
      "_model_module_version": "1.5.0",
      "_model_name": "ProgressStyleModel",
      "_view_count": null,
      "_view_module": "@jupyter-widgets/base",
      "_view_module_version": "1.2.0",
      "_view_name": "StyleView",
      "bar_color": null,
      "description_width": "initial"
     }
    },
    "e61d1189d269428d8b51e1f4363050b4": {
     "model_module": "@jupyter-widgets/base",
     "model_name": "LayoutModel",
     "state": {
      "_model_module": "@jupyter-widgets/base",
      "_model_module_version": "1.2.0",
      "_model_name": "LayoutModel",
      "_view_count": null,
      "_view_module": "@jupyter-widgets/base",
      "_view_module_version": "1.2.0",
      "_view_name": "LayoutView",
      "align_content": null,
      "align_items": null,
      "align_self": null,
      "border": null,
      "bottom": null,
      "display": null,
      "flex": null,
      "flex_flow": null,
      "grid_area": null,
      "grid_auto_columns": null,
      "grid_auto_flow": null,
      "grid_auto_rows": null,
      "grid_column": null,
      "grid_gap": null,
      "grid_row": null,
      "grid_template_areas": null,
      "grid_template_columns": null,
      "grid_template_rows": null,
      "height": null,
      "justify_content": null,
      "justify_items": null,
      "left": null,
      "margin": null,
      "max_height": null,
      "max_width": null,
      "min_height": null,
      "min_width": null,
      "object_fit": null,
      "object_position": null,
      "order": null,
      "overflow": null,
      "overflow_x": null,
      "overflow_y": null,
      "padding": null,
      "right": null,
      "top": null,
      "visibility": null,
      "width": null
     }
    },
    "f42e1786cd2e454e857aa05288a3ce20": {
     "model_module": "@jupyter-widgets/controls",
     "model_name": "HTMLModel",
     "state": {
      "_dom_classes": [],
      "_model_module": "@jupyter-widgets/controls",
      "_model_module_version": "1.5.0",
      "_model_name": "HTMLModel",
      "_view_count": null,
      "_view_module": "@jupyter-widgets/controls",
      "_view_module_version": "1.5.0",
      "_view_name": "HTMLView",
      "description": "",
      "description_tooltip": null,
      "layout": "IPY_MODEL_e61d1189d269428d8b51e1f4363050b4",
      "placeholder": "​",
      "style": "IPY_MODEL_52de28e9bc6a4035b00467e894f6c048",
      "value": " 548M/548M [16:21&lt;00:00, 585kB/s]"
     }
    },
    "f94c7486d8714ca694e85ae94ae08865": {
     "model_module": "@jupyter-widgets/base",
     "model_name": "LayoutModel",
     "state": {
      "_model_module": "@jupyter-widgets/base",
      "_model_module_version": "1.2.0",
      "_model_name": "LayoutModel",
      "_view_count": null,
      "_view_module": "@jupyter-widgets/base",
      "_view_module_version": "1.2.0",
      "_view_name": "LayoutView",
      "align_content": null,
      "align_items": null,
      "align_self": null,
      "border": null,
      "bottom": null,
      "display": null,
      "flex": null,
      "flex_flow": null,
      "grid_area": null,
      "grid_auto_columns": null,
      "grid_auto_flow": null,
      "grid_auto_rows": null,
      "grid_column": null,
      "grid_gap": null,
      "grid_row": null,
      "grid_template_areas": null,
      "grid_template_columns": null,
      "grid_template_rows": null,
      "height": null,
      "justify_content": null,
      "justify_items": null,
      "left": null,
      "margin": null,
      "max_height": null,
      "max_width": null,
      "min_height": null,
      "min_width": null,
      "object_fit": null,
      "object_position": null,
      "order": null,
      "overflow": null,
      "overflow_x": null,
      "overflow_y": null,
      "padding": null,
      "right": null,
      "top": null,
      "visibility": null,
      "width": null
     }
    }
   }
  }
 },
 "nbformat": 4,
 "nbformat_minor": 4
}
