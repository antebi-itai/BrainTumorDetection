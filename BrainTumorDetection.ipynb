{
 "cells": [
  {
   "cell_type": "markdown",
   "metadata": {
    "id": "rJ5wjNM2HmTi"
   },
   "source": [
    "# Brain Tumor Detection"
   ]
  },
  {
   "cell_type": "markdown",
   "metadata": {},
   "source": [
    "### For Google Colab Users"
   ]
  },
  {
   "cell_type": "code",
   "execution_count": null,
   "metadata": {
    "cellView": "form",
    "colab": {
     "base_uri": "https://localhost:8080/"
    },
    "executionInfo": {
     "elapsed": 33293,
     "status": "ok",
     "timestamp": 1624290479794,
     "user": {
      "displayName": "דן שגב",
      "photoUrl": "https://lh3.googleusercontent.com/a-/AOh14Gi7FCvMmLvTnajgDdkYg9B1ycwqNy9Hnzq3-rHN4F4=s64",
      "userId": "03596052621647126252"
     },
     "user_tz": -180
    },
    "id": "8e6boT7pL7XW",
    "outputId": "a3e0c981-f0a8-459b-bdca-5ee76158822f"
   },
   "outputs": [],
   "source": [
    "#@title ## Mount Your Google Drive & Map your Directory\n",
    "#@markdown Please run this cell (`Ctrl+Enter` or `Shift+Enter`) and follow the steps printed bellow.\n",
    "import os\n",
    "\n",
    "from google.colab import drive\n",
    "drive.mount('/content/gdrive')\n",
    "\n",
    "# check Google Drive is mounted\n",
    "if not os.path.isdir(\"/content/gdrive\"):\n",
    "  raise FileNotFoundError(\"Your Google Drive isn't mounted. Please run the above cell.\")\n",
    "\n",
    "assignment_dir = \"/content/gdrive/MyDrive/workspace/BrainTumorDetection\"  #@param{type:\"string\"}\n",
    "assignment_dest = \"/content/project\"\n",
    "\n",
    "# create symbolic link\n",
    "!rm -f {assignment_dest}\n",
    "!ln -s \"{assignment_dir}\" \"{assignment_dest}\"\n",
    "print(f'Succesfully mapped (ln -s) \"{assignment_dest}\" -> \"{assignment_dir}\"')\n",
    "\n",
    "# cd to linked dir\n",
    "%cd -q {assignment_dest}\n",
    "print(f'Succesfully changed directory (cd) to \"{assignment_dest}\"')"
   ]
  },
  {
   "cell_type": "markdown",
   "metadata": {},
   "source": [
    "### Init"
   ]
  },
  {
   "cell_type": "code",
   "execution_count": 1,
   "metadata": {
    "cellView": "form",
    "colab": {
     "base_uri": "https://localhost:8080/"
    },
    "executionInfo": {
     "elapsed": 6252,
     "status": "ok",
     "timestamp": 1624290486044,
     "user": {
      "displayName": "דן שגב",
      "photoUrl": "https://lh3.googleusercontent.com/a-/AOh14Gi7FCvMmLvTnajgDdkYg9B1ycwqNy9Hnzq3-rHN4F4=s64",
      "userId": "03596052621647126252"
     },
     "user_tz": -180
    },
    "id": "rNN_hPZaHmTj",
    "outputId": "1bfd50ab-0ae8-45d8-c3bb-f8a500346bd0"
   },
   "outputs": [
    {
     "name": "stderr",
     "output_type": "stream",
     "text": [
      "\u001b[34m\u001b[1mwandb\u001b[0m: Currently logged in as: \u001b[33mantebi-itai\u001b[0m (use `wandb login --relogin` to force relogin)\n"
     ]
    },
    {
     "name": "stdout",
     "output_type": "stream",
     "text": [
      "Thu Jul 22 11:09:16 2021       \n",
      "+-----------------------------------------------------------------------------+\n",
      "| NVIDIA-SMI 460.32.03    Driver Version: 460.32.03    CUDA Version: 11.2     |\n",
      "|-------------------------------+----------------------+----------------------+\n",
      "| GPU  Name        Persistence-M| Bus-Id        Disp.A | Volatile Uncorr. ECC |\n",
      "| Fan  Temp  Perf  Pwr:Usage/Cap|         Memory-Usage | GPU-Util  Compute M. |\n",
      "|                               |                      |               MIG M. |\n",
      "|===============================+======================+======================|\n",
      "|   0  Quadro RTX 8000     Off  | 00000000:3A:00.0 Off |                  Off |\n",
      "| 33%   30C    P8    13W / 260W |      0MiB / 48601MiB |      0%      Default |\n",
      "|                               |                      |                  N/A |\n",
      "+-------------------------------+----------------------+----------------------+\n",
      "                                                                               \n",
      "+-----------------------------------------------------------------------------+\n",
      "| Processes:                                                                  |\n",
      "|  GPU   GI   CI        PID   Type   Process name                  GPU Memory |\n",
      "|        ID   ID                                                   Usage      |\n",
      "|=============================================================================|\n",
      "|  No running processes found                                                 |\n",
      "+-----------------------------------------------------------------------------+\n",
      "Possible models:\n",
      "Model vgg19                     -> accuracy 1\n",
      "Model vgg19_seg                 -> accuracy 0.95\n",
      "Model vgg19_seg_100             -> accuracy 0.83\n",
      "Model vgg19_seg_128             -> accuracy 0.87\n",
      "Model vgg19_seg_200             -> accuracy 0.9\n",
      "Model vgg19_seg_512             -> accuracy 0.87\n"
     ]
    }
   ],
   "source": [
    "#@title ##Init\n",
    "\n",
    "#@markdown Import required modules and observe your resources\n",
    "\n",
    "# auto reload\n",
    "%load_ext autoreload\n",
    "%autoreload 2\n",
    "\n",
    "# import\n",
    "import torch\n",
    "import torchvision\n",
    "from PIL import Image\n",
    "import matplotlib.pyplot as plt\n",
    "import random\n",
    "import os\n",
    "import wandb\n",
    "wandb.login()\n",
    "\n",
    "from experiment import Experiment\n",
    "from post_process import get_masks_from_heatmaps, present_masks, calc_iou\n",
    "from data import DataGenerator, SegmentationGenerator\n",
    "from train import get_best_models_dict\n",
    "\n",
    "# Show resources\n",
    "!nvidia-smi\n",
    "# Show possible models\n",
    "print(\"Possible models:\")\n",
    "models_dict = get_best_models_dict()\n",
    "for model in sorted(models_dict):\n",
    "    print(\"Model {model} {spaces}-> accuracy {acc}\".format(spaces=\" \"*(25-len(model)), model=model, acc=models_dict[model]))"
   ]
  },
  {
   "cell_type": "markdown",
   "metadata": {
    "id": "laVqGfGrHmTl"
   },
   "source": [
    "### Set Configs"
   ]
  },
  {
   "cell_type": "code",
   "execution_count": 2,
   "metadata": {},
   "outputs": [],
   "source": [
    "default_config = {\n",
    "    \"model_name\": \"vgg19_seg\",\n",
    "    \"input_size\": (256,256), \n",
    "    \"occlusion_size\": (30,30),\n",
    "    \n",
    "    \"epochs\": 0,\n",
    "  \n",
    "    #\"data_train_class\": DataGenerator,         \"data_train_path\": os.path.join(\".\", \"Data\", \"Training\"),\n",
    "    #\"data_test_class\": DataGenerator,          \"data_test_path\":  os.path.join(\".\", \"Data\", \"Testing\"),\n",
    "    \"data_train_class\": SegmentationGenerator, \"data_train_path\": os.path.join(\".\", \"SegmentationData\", \"train\"), \n",
    "    \"data_test_class\": SegmentationGenerator,  \"data_test_path\":  os.path.join(\".\", \"SegmentationData\", \"test-compact\"),\n",
    "\n",
    "    \"gt_threshold\": 0,\n",
    "    \"heatmap_threshold\" : 0.80,\n",
    "\n",
    "    \"heat_layers\" : [['features', layer_num] for layer_num in [0, 2, 5, 7, 10, 12, 14, 16, 19, 21, 23, 25, 28, 30, 32, 34]],\n",
    "    \"ref_heat_layer\": ['classifier', -1],\n",
    "    \"mri_type\": \"T1c\", \n",
    "    \"train_batch_size\": 100,\n",
    "    \"lr\": 1e-4,\n",
    "    \"heatmap_batch_size\": 256,\n",
    "    \"smallest_contour_len\" : 30,\n",
    "    \"shuffle_data\": True,\n",
    "    \"device\": \"cuda\",\n",
    "    \"attributes_to_log\": [\"model_name\", \"occlusion_size\", \"heatmap_threshold\"]\n",
    "}\n",
    "\n",
    "sweep_config = {\n",
    "    'name' : 'my-sweep',\n",
    "    'method' : 'random',\n",
    "    'parameters' : {\n",
    "        'occlusion_size' : {'values' : [(10,10), (20,20), (30,30), (40,40), (50,50), (60,60)]},\n",
    "        'gt_threshold' : {'values' : [0, 1, 2]},\n",
    "        'heatmap_threshold' : {\n",
    "            'distribution' : 'uniform', \n",
    "            'min': 0.4, \n",
    "            'max': 0.9\n",
    "        }\n",
    "    },\n",
    "    'metric': {\n",
    "        'name': 'avg_iou',\n",
    "        'goal' : 'maximize'\n",
    "    }\n",
    "}\n",
    "\n",
    "def agent():\n",
    "    with wandb.init(project=\"BrainTumorDetection\", config=default_config):\n",
    "        config = wandb.config\n",
    "        experiment = Experiment(config)\n",
    "        iou = experiment.run()\n"
   ]
  },
  {
   "cell_type": "markdown",
   "metadata": {},
   "source": [
    "### Run Single Experiment"
   ]
  },
  {
   "cell_type": "code",
   "execution_count": null,
   "metadata": {},
   "outputs": [],
   "source": [
    "agent()"
   ]
  },
  {
   "cell_type": "markdown",
   "metadata": {},
   "source": [
    "### Sweep over many Experiments"
   ]
  },
  {
   "cell_type": "code",
   "execution_count": null,
   "metadata": {},
   "outputs": [
    {
     "name": "stdout",
     "output_type": "stream",
     "text": [
      "Create sweep with ID: 83axjamh\n",
      "Sweep URL: https://wandb.ai/ubrats/Unsupervised-BRATS/sweeps/83axjamh\n",
      "Sweep ID: 83axjamh\n"
     ]
    },
    {
     "name": "stderr",
     "output_type": "stream",
     "text": [
      "\u001b[34m\u001b[1mwandb\u001b[0m: Agent Starting Run: 3xti9xmv with config:\n",
      "\u001b[34m\u001b[1mwandb\u001b[0m: \tgt_threshold: 0\n",
      "\u001b[34m\u001b[1mwandb\u001b[0m: \theatmap_threshold: 0.550324241541464\n",
      "\u001b[34m\u001b[1mwandb\u001b[0m: \tocclusion_size: [10, 10]\n",
      "\u001b[34m\u001b[1mwandb\u001b[0m: \u001b[33mWARNING\u001b[0m Ignored wandb.init() arg project when running a sweep\n",
      "\u001b[34m\u001b[1mwandb\u001b[0m: wandb version 0.11.0 is available!  To upgrade, please run:\n",
      "\u001b[34m\u001b[1mwandb\u001b[0m:  $ pip install wandb --upgrade\n"
     ]
    },
    {
     "data": {
      "text/html": [
       "\n",
       "                Tracking run with wandb version 0.10.32<br/>\n",
       "                Syncing run <strong style=\"color:#cdcd00\">toasty-sweep-1</strong> to <a href=\"https://wandb.ai\" target=\"_blank\">Weights & Biases</a> <a href=\"https://docs.wandb.com/integrations/jupyter.html\" target=\"_blank\">(Documentation)</a>.<br/>\n",
       "                Project page: <a href=\"https://wandb.ai/ubrats/Unsupervised-BRATS\" target=\"_blank\">https://wandb.ai/ubrats/Unsupervised-BRATS</a><br/>\n",
       "                Sweep page: <a href=\"https://wandb.ai/ubrats/Unsupervised-BRATS/sweeps/83axjamh\" target=\"_blank\">https://wandb.ai/ubrats/Unsupervised-BRATS/sweeps/83axjamh</a><br/>\n",
       "Run page: <a href=\"https://wandb.ai/ubrats/Unsupervised-BRATS/runs/3xti9xmv\" target=\"_blank\">https://wandb.ai/ubrats/Unsupervised-BRATS/runs/3xti9xmv</a><br/>\n",
       "                Run data is saved locally in <code>/home/labs/waic/itaian/BrainTumorDetection/wandb/run-20210722_110958-3xti9xmv</code><br/><br/>\n",
       "            "
      ],
      "text/plain": [
       "<IPython.core.display.HTML object>"
      ]
     },
     "metadata": {},
     "output_type": "display_data"
    },
    {
     "name": "stdout",
     "output_type": "stream",
     "text": [
      "loading vgg19_seg model...\n",
      "loading best model state from: ./Models/vgg19_seg.pth\n"
     ]
    },
    {
     "name": "stderr",
     "output_type": "stream",
     "text": [
      "0it [00:00, ?it/s]"
     ]
    },
    {
     "name": "stdout",
     "output_type": "stream",
     "text": [
      "loading best model state from: ./Models/vgg19_seg.pth\n"
     ]
    },
    {
     "name": "stderr",
     "output_type": "stream",
     "text": [
      "\n"
     ]
    },
    {
     "name": "stdout",
     "output_type": "stream",
     "text": [
      "Model's accuracy: 0.9\n"
     ]
    },
    {
     "name": "stderr",
     "output_type": "stream",
     "text": [
      "/home/labs/waic/itaian/.conda/envs/itai-env/lib/python3.9/site-packages/torch/nn/functional.py:718: UserWarning: Named tensors and all their associated APIs are an experimental feature and subject to change. Please do not use them for anything important until they are released as stable. (Triggered internally at  /opt/conda/conda-bld/pytorch_1623448238472/work/c10/core/TensorImpl.h:1156.)\n",
      "  return torch.max_pool2d(input, kernel_size, stride, padding, dilation, ceil_mode)\n"
     ]
    },
    {
     "name": "stdout",
     "output_type": "stream",
     "text": [
      "Creating heatmap...\n"
     ]
    },
    {
     "name": "stderr",
     "output_type": "stream",
     "text": [
      "  6%|▋         | 16/256 [00:10<02:35,  1.54it/s]"
     ]
    }
   ],
   "source": [
    "sweep_id = wandb.sweep(sweep_config, entity='UBRATS', project='Unsupervised-BRATS')\n",
    "print(\"Sweep ID:\", sweep_id)\n",
    "count = 100\n",
    "wandb.agent(sweep_id, function=agent, count=count)"
   ]
  },
  {
   "cell_type": "markdown",
   "metadata": {},
   "source": [
    "### Debug"
   ]
  },
  {
   "cell_type": "code",
   "execution_count": null,
   "metadata": {},
   "outputs": [],
   "source": [
    "from matplotlib import pyplot as plt\n",
    "\n",
    "default_config[\"data_train_class\"] = \"data.SegmentationGenerator\"\n",
    "default_config[\"data_test_class\"] = \"data.SegmentationGenerator\"\n",
    "\n",
    "experiment = Experiment(default_config)"
   ]
  },
  {
   "cell_type": "code",
   "execution_count": null,
   "metadata": {},
   "outputs": [],
   "source": [
    "def imshow(image, title):\n",
    "    plt.figure()\n",
    "    plt.imshow(image, cmap=\"gray\")\n",
    "    plt.title(title)\n",
    "mins = []\n",
    "maxs = []\n",
    "\n",
    "for image_num in range(len(experiment.test_dataset) // 2):\n",
    "    title = \"#{image_num}\".format(image_num=image_num)\n",
    "    # Original image\n",
    "    original_image, (gt_mask, gt_) = experiment.test_dataset[image_num * 2 + 1]\n",
    "    mins.append(gt_mask.min().item())\n",
    "    maxs.append(gt_mask.max().item())\n",
    "    \n",
    "    imshow(gt_mask, title)\n",
    "    for i in range(5):\n",
    "        imshow(gt_mask > i, title + \" > \" + str(i))\n"
   ]
  }
 ],
 "metadata": {
  "colab": {
   "collapsed_sections": [],
   "name": "BrainTumorDetection.ipynb",
   "version": ""
  },
  "kernelspec": {
   "display_name": "Python 3",
   "language": "python",
   "name": "python3"
  },
  "language_info": {
   "codemirror_mode": {
    "name": "ipython",
    "version": 3
   },
   "file_extension": ".py",
   "mimetype": "text/x-python",
   "name": "python",
   "nbconvert_exporter": "python",
   "pygments_lexer": "ipython3",
   "version": "3.9.5"
  },
  "widgets": {
   "application/vnd.jupyter.widget-state+json": {
    "04f4387e7e43438c9fdff53a8bd185f9": {
     "model_module": "@jupyter-widgets/base",
     "model_name": "LayoutModel",
     "state": {
      "_model_module": "@jupyter-widgets/base",
      "_model_module_version": "1.2.0",
      "_model_name": "LayoutModel",
      "_view_count": null,
      "_view_module": "@jupyter-widgets/base",
      "_view_module_version": "1.2.0",
      "_view_name": "LayoutView",
      "align_content": null,
      "align_items": null,
      "align_self": null,
      "border": null,
      "bottom": null,
      "display": null,
      "flex": null,
      "flex_flow": null,
      "grid_area": null,
      "grid_auto_columns": null,
      "grid_auto_flow": null,
      "grid_auto_rows": null,
      "grid_column": null,
      "grid_gap": null,
      "grid_row": null,
      "grid_template_areas": null,
      "grid_template_columns": null,
      "grid_template_rows": null,
      "height": null,
      "justify_content": null,
      "justify_items": null,
      "left": null,
      "margin": null,
      "max_height": null,
      "max_width": null,
      "min_height": null,
      "min_width": null,
      "object_fit": null,
      "object_position": null,
      "order": null,
      "overflow": null,
      "overflow_x": null,
      "overflow_y": null,
      "padding": null,
      "right": null,
      "top": null,
      "visibility": null,
      "width": null
     }
    },
    "0a3020a0f2f64dd19884e929a08c369a": {
     "model_module": "@jupyter-widgets/controls",
     "model_name": "DescriptionStyleModel",
     "state": {
      "_model_module": "@jupyter-widgets/controls",
      "_model_module_version": "1.5.0",
      "_model_name": "DescriptionStyleModel",
      "_view_count": null,
      "_view_module": "@jupyter-widgets/base",
      "_view_module_version": "1.2.0",
      "_view_name": "StyleView",
      "description_width": ""
     }
    },
    "0f9632a8291046188ac3c21b79001af7": {
     "model_module": "@jupyter-widgets/controls",
     "model_name": "FloatProgressModel",
     "state": {
      "_dom_classes": [],
      "_model_module": "@jupyter-widgets/controls",
      "_model_module_version": "1.5.0",
      "_model_name": "FloatProgressModel",
      "_view_count": null,
      "_view_module": "@jupyter-widgets/controls",
      "_view_module_version": "1.5.0",
      "_view_name": "ProgressView",
      "bar_style": "success",
      "description": "100%",
      "description_tooltip": null,
      "layout": "IPY_MODEL_f94c7486d8714ca694e85ae94ae08865",
      "max": 574673361,
      "min": 0,
      "orientation": "horizontal",
      "style": "IPY_MODEL_75a2c9d36604429e979e3a03cbc1ee3d",
      "value": 574673361
     }
    },
    "18ba561eeed54e6489c5aacbf24969e0": {
     "model_module": "@jupyter-widgets/controls",
     "model_name": "HTMLModel",
     "state": {
      "_dom_classes": [],
      "_model_module": "@jupyter-widgets/controls",
      "_model_module_version": "1.5.0",
      "_model_name": "HTMLModel",
      "_view_count": null,
      "_view_module": "@jupyter-widgets/controls",
      "_view_module_version": "1.5.0",
      "_view_name": "HTMLView",
      "description": "",
      "description_tooltip": null,
      "layout": "IPY_MODEL_59eb31a721ae4b64abbf5fca3d2c7e83",
      "placeholder": "​",
      "style": "IPY_MODEL_0a3020a0f2f64dd19884e929a08c369a",
      "value": " 548M/548M [00:03&lt;00:00, 161MB/s]"
     }
    },
    "1a3d9ff6b0f84a89991000a438be578b": {
     "model_module": "@jupyter-widgets/controls",
     "model_name": "HBoxModel",
     "state": {
      "_dom_classes": [],
      "_model_module": "@jupyter-widgets/controls",
      "_model_module_version": "1.5.0",
      "_model_name": "HBoxModel",
      "_view_count": null,
      "_view_module": "@jupyter-widgets/controls",
      "_view_module_version": "1.5.0",
      "_view_name": "HBoxView",
      "box_style": "",
      "children": [
       "IPY_MODEL_0f9632a8291046188ac3c21b79001af7",
       "IPY_MODEL_18ba561eeed54e6489c5aacbf24969e0"
      ],
      "layout": "IPY_MODEL_4f45e8a590c44cf5be6590c9d402064b"
     }
    },
    "4f45e8a590c44cf5be6590c9d402064b": {
     "model_module": "@jupyter-widgets/base",
     "model_name": "LayoutModel",
     "state": {
      "_model_module": "@jupyter-widgets/base",
      "_model_module_version": "1.2.0",
      "_model_name": "LayoutModel",
      "_view_count": null,
      "_view_module": "@jupyter-widgets/base",
      "_view_module_version": "1.2.0",
      "_view_name": "LayoutView",
      "align_content": null,
      "align_items": null,
      "align_self": null,
      "border": null,
      "bottom": null,
      "display": null,
      "flex": null,
      "flex_flow": null,
      "grid_area": null,
      "grid_auto_columns": null,
      "grid_auto_flow": null,
      "grid_auto_rows": null,
      "grid_column": null,
      "grid_gap": null,
      "grid_row": null,
      "grid_template_areas": null,
      "grid_template_columns": null,
      "grid_template_rows": null,
      "height": null,
      "justify_content": null,
      "justify_items": null,
      "left": null,
      "margin": null,
      "max_height": null,
      "max_width": null,
      "min_height": null,
      "min_width": null,
      "object_fit": null,
      "object_position": null,
      "order": null,
      "overflow": null,
      "overflow_x": null,
      "overflow_y": null,
      "padding": null,
      "right": null,
      "top": null,
      "visibility": null,
      "width": null
     }
    },
    "52de28e9bc6a4035b00467e894f6c048": {
     "model_module": "@jupyter-widgets/controls",
     "model_name": "DescriptionStyleModel",
     "state": {
      "_model_module": "@jupyter-widgets/controls",
      "_model_module_version": "1.5.0",
      "_model_name": "DescriptionStyleModel",
      "_view_count": null,
      "_view_module": "@jupyter-widgets/base",
      "_view_module_version": "1.2.0",
      "_view_name": "StyleView",
      "description_width": ""
     }
    },
    "59eb31a721ae4b64abbf5fca3d2c7e83": {
     "model_module": "@jupyter-widgets/base",
     "model_name": "LayoutModel",
     "state": {
      "_model_module": "@jupyter-widgets/base",
      "_model_module_version": "1.2.0",
      "_model_name": "LayoutModel",
      "_view_count": null,
      "_view_module": "@jupyter-widgets/base",
      "_view_module_version": "1.2.0",
      "_view_name": "LayoutView",
      "align_content": null,
      "align_items": null,
      "align_self": null,
      "border": null,
      "bottom": null,
      "display": null,
      "flex": null,
      "flex_flow": null,
      "grid_area": null,
      "grid_auto_columns": null,
      "grid_auto_flow": null,
      "grid_auto_rows": null,
      "grid_column": null,
      "grid_gap": null,
      "grid_row": null,
      "grid_template_areas": null,
      "grid_template_columns": null,
      "grid_template_rows": null,
      "height": null,
      "justify_content": null,
      "justify_items": null,
      "left": null,
      "margin": null,
      "max_height": null,
      "max_width": null,
      "min_height": null,
      "min_width": null,
      "object_fit": null,
      "object_position": null,
      "order": null,
      "overflow": null,
      "overflow_x": null,
      "overflow_y": null,
      "padding": null,
      "right": null,
      "top": null,
      "visibility": null,
      "width": null
     }
    },
    "6ce234089638421b89bb3da75fc9ede8": {
     "model_module": "@jupyter-widgets/controls",
     "model_name": "HBoxModel",
     "state": {
      "_dom_classes": [],
      "_model_module": "@jupyter-widgets/controls",
      "_model_module_version": "1.5.0",
      "_model_name": "HBoxModel",
      "_view_count": null,
      "_view_module": "@jupyter-widgets/controls",
      "_view_module_version": "1.5.0",
      "_view_name": "HBoxView",
      "box_style": "",
      "children": [
       "IPY_MODEL_7f33ec580a834f7aadce4b6728cc7b96",
       "IPY_MODEL_f42e1786cd2e454e857aa05288a3ce20"
      ],
      "layout": "IPY_MODEL_04f4387e7e43438c9fdff53a8bd185f9"
     }
    },
    "75a2c9d36604429e979e3a03cbc1ee3d": {
     "model_module": "@jupyter-widgets/controls",
     "model_name": "ProgressStyleModel",
     "state": {
      "_model_module": "@jupyter-widgets/controls",
      "_model_module_version": "1.5.0",
      "_model_name": "ProgressStyleModel",
      "_view_count": null,
      "_view_module": "@jupyter-widgets/base",
      "_view_module_version": "1.2.0",
      "_view_name": "StyleView",
      "bar_color": null,
      "description_width": "initial"
     }
    },
    "7c48b8d574ba47c988cf494f7b82a57c": {
     "model_module": "@jupyter-widgets/base",
     "model_name": "LayoutModel",
     "state": {
      "_model_module": "@jupyter-widgets/base",
      "_model_module_version": "1.2.0",
      "_model_name": "LayoutModel",
      "_view_count": null,
      "_view_module": "@jupyter-widgets/base",
      "_view_module_version": "1.2.0",
      "_view_name": "LayoutView",
      "align_content": null,
      "align_items": null,
      "align_self": null,
      "border": null,
      "bottom": null,
      "display": null,
      "flex": null,
      "flex_flow": null,
      "grid_area": null,
      "grid_auto_columns": null,
      "grid_auto_flow": null,
      "grid_auto_rows": null,
      "grid_column": null,
      "grid_gap": null,
      "grid_row": null,
      "grid_template_areas": null,
      "grid_template_columns": null,
      "grid_template_rows": null,
      "height": null,
      "justify_content": null,
      "justify_items": null,
      "left": null,
      "margin": null,
      "max_height": null,
      "max_width": null,
      "min_height": null,
      "min_width": null,
      "object_fit": null,
      "object_position": null,
      "order": null,
      "overflow": null,
      "overflow_x": null,
      "overflow_y": null,
      "padding": null,
      "right": null,
      "top": null,
      "visibility": null,
      "width": null
     }
    },
    "7f33ec580a834f7aadce4b6728cc7b96": {
     "model_module": "@jupyter-widgets/controls",
     "model_name": "FloatProgressModel",
     "state": {
      "_dom_classes": [],
      "_model_module": "@jupyter-widgets/controls",
      "_model_module_version": "1.5.0",
      "_model_name": "FloatProgressModel",
      "_view_count": null,
      "_view_module": "@jupyter-widgets/controls",
      "_view_module_version": "1.5.0",
      "_view_name": "ProgressView",
      "bar_style": "success",
      "description": "100%",
      "description_tooltip": null,
      "layout": "IPY_MODEL_7c48b8d574ba47c988cf494f7b82a57c",
      "max": 574673361,
      "min": 0,
      "orientation": "horizontal",
      "style": "IPY_MODEL_e41f9a252c6d424d9e46db9fbff24f51",
      "value": 574673361
     }
    },
    "e41f9a252c6d424d9e46db9fbff24f51": {
     "model_module": "@jupyter-widgets/controls",
     "model_name": "ProgressStyleModel",
     "state": {
      "_model_module": "@jupyter-widgets/controls",
      "_model_module_version": "1.5.0",
      "_model_name": "ProgressStyleModel",
      "_view_count": null,
      "_view_module": "@jupyter-widgets/base",
      "_view_module_version": "1.2.0",
      "_view_name": "StyleView",
      "bar_color": null,
      "description_width": "initial"
     }
    },
    "e61d1189d269428d8b51e1f4363050b4": {
     "model_module": "@jupyter-widgets/base",
     "model_name": "LayoutModel",
     "state": {
      "_model_module": "@jupyter-widgets/base",
      "_model_module_version": "1.2.0",
      "_model_name": "LayoutModel",
      "_view_count": null,
      "_view_module": "@jupyter-widgets/base",
      "_view_module_version": "1.2.0",
      "_view_name": "LayoutView",
      "align_content": null,
      "align_items": null,
      "align_self": null,
      "border": null,
      "bottom": null,
      "display": null,
      "flex": null,
      "flex_flow": null,
      "grid_area": null,
      "grid_auto_columns": null,
      "grid_auto_flow": null,
      "grid_auto_rows": null,
      "grid_column": null,
      "grid_gap": null,
      "grid_row": null,
      "grid_template_areas": null,
      "grid_template_columns": null,
      "grid_template_rows": null,
      "height": null,
      "justify_content": null,
      "justify_items": null,
      "left": null,
      "margin": null,
      "max_height": null,
      "max_width": null,
      "min_height": null,
      "min_width": null,
      "object_fit": null,
      "object_position": null,
      "order": null,
      "overflow": null,
      "overflow_x": null,
      "overflow_y": null,
      "padding": null,
      "right": null,
      "top": null,
      "visibility": null,
      "width": null
     }
    },
    "f42e1786cd2e454e857aa05288a3ce20": {
     "model_module": "@jupyter-widgets/controls",
     "model_name": "HTMLModel",
     "state": {
      "_dom_classes": [],
      "_model_module": "@jupyter-widgets/controls",
      "_model_module_version": "1.5.0",
      "_model_name": "HTMLModel",
      "_view_count": null,
      "_view_module": "@jupyter-widgets/controls",
      "_view_module_version": "1.5.0",
      "_view_name": "HTMLView",
      "description": "",
      "description_tooltip": null,
      "layout": "IPY_MODEL_e61d1189d269428d8b51e1f4363050b4",
      "placeholder": "​",
      "style": "IPY_MODEL_52de28e9bc6a4035b00467e894f6c048",
      "value": " 548M/548M [16:21&lt;00:00, 585kB/s]"
     }
    },
    "f94c7486d8714ca694e85ae94ae08865": {
     "model_module": "@jupyter-widgets/base",
     "model_name": "LayoutModel",
     "state": {
      "_model_module": "@jupyter-widgets/base",
      "_model_module_version": "1.2.0",
      "_model_name": "LayoutModel",
      "_view_count": null,
      "_view_module": "@jupyter-widgets/base",
      "_view_module_version": "1.2.0",
      "_view_name": "LayoutView",
      "align_content": null,
      "align_items": null,
      "align_self": null,
      "border": null,
      "bottom": null,
      "display": null,
      "flex": null,
      "flex_flow": null,
      "grid_area": null,
      "grid_auto_columns": null,
      "grid_auto_flow": null,
      "grid_auto_rows": null,
      "grid_column": null,
      "grid_gap": null,
      "grid_row": null,
      "grid_template_areas": null,
      "grid_template_columns": null,
      "grid_template_rows": null,
      "height": null,
      "justify_content": null,
      "justify_items": null,
      "left": null,
      "margin": null,
      "max_height": null,
      "max_width": null,
      "min_height": null,
      "min_width": null,
      "object_fit": null,
      "object_position": null,
      "order": null,
      "overflow": null,
      "overflow_x": null,
      "overflow_y": null,
      "padding": null,
      "right": null,
      "top": null,
      "visibility": null,
      "width": null
     }
    }
   }
  }
 },
 "nbformat": 4,
 "nbformat_minor": 4
}
